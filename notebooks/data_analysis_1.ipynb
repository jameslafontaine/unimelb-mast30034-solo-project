{
 "cells": [
  {
   "cell_type": "markdown",
   "metadata": {},
   "source": [
    "# Exploratory Data Analysis\n",
    "\n",
    "#### (Note that dataset shape can be distribution and / or dimensionality)"
   ]
  },
  {
   "cell_type": "markdown",
   "metadata": {},
   "source": [
    "## Plot relationships between features / attributes"
   ]
  },
  {
   "cell_type": "markdown",
   "metadata": {},
   "source": [
    "## Research Goal: \n",
    "### - Which type of vehicle driver makes the most money per hour and why\n",
    "### - Which periods of the year do vehicle drivers make the most money during and why (could use external datasets of when and where social events are occurring which increase taxi / fhv demand)\n",
    "### - Which regions of NYC do vehicle drivers make the most money during and why\n",
    "### - How can taxi / fhv drivers maximise tip amounts in general\n",
    "### - When and where are traffic levels lowest during the year / day for NYC (requires external datasets)\n",
    "\n",
    "### Could also go the passenger route\n",
    "### - Which taxi / fhv service provides the cheapest service over the same distance\n",
    "### - Which taxi / fhv service leads to the most pleasant experience (driver ratings, frequency of sharing with different passengers, wait times, etc.)"
   ]
  }
 ],
 "metadata": {
  "language_info": {
   "name": "python"
  },
  "orig_nbformat": 4
 },
 "nbformat": 4,
 "nbformat_minor": 2
}
