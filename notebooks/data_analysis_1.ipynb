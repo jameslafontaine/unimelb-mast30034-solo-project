{
 "cells": [
  {
   "cell_type": "markdown",
   "metadata": {},
   "source": [
    "Whilst Spark is amazing at handling big data sets, it isn't a great idea to plot all of it. We suggest taking a maximum of 5% of records for the tutorial. \n",
    "\n",
    "You can up it to your requirements, but we recommend sticking to less than 1 million records per month for visualization purposes.\n",
    "\n",
    "**Project 1 Checklist:**\n",
    "- You have justified your sample size (i.e due to runtime, distribution of data, etc)\n",
    "- You have justified your sampling method (i.e random, stratified, etc)\n",
    "- You have detailed in your report that you have sampled for visualization purposes BUT your analysis still uses the full distribution of data\n",
    "- You mention any issues that can potentially be caused by sampling (i.e biased visualisation if using random)\n",
    "\n",
    "Remember, it is your responsibility as the student (future Data Scientist) to convince the tutor (your stakeholders) that your justifications and assumptions are correct!"
   ]
  },
  {
   "cell_type": "markdown",
   "metadata": {},
   "source": [
    "# Exploratory Data Analysis\n",
    "\n",
    "#### (Note that dataset shape can be distribution and / or dimensionality)"
   ]
  },
  {
   "cell_type": "code",
   "execution_count": null,
   "metadata": {
    "vscode": {
     "languageId": "plaintext"
    }
   },
   "outputs": [],
   "source": [
    "compare top yellow earners to top green earners (max $ / mile or $ / hour for yellow and green, could show map)\n",
    "\n",
    "plot zone profitability on map\n",
    "\n",
    "plot holiday taxi demand or profitability vs non holiday taxi demand or profitability\n",
    "\n",
    "plot weekday taxi demand or profitability vs non holiday taxi demand or profitability\n",
    "\n",
    "investigate relationship of external data with taxi demand / zone profitability\n",
    "\n",
    "create models for each borough separately potentialyl\n",
    "\n",
    "check relationship between zone profitability / taxi demand and external datasets one at a time\n",
    "\n",
    "recommend measuring taxi supply so a supply-to-demand ratio for each taxi zone can be actively tracked and utilised in predicting profitability of zones, as current modelling is limited by the fact that taxi demand has to be inferred from number of trips,\n",
    "which does not perfectly capture how many taxis are available in an area vs the number of people who need taxi rides."
   ]
  },
  {
   "cell_type": "markdown",
   "metadata": {},
   "source": [
    "## Personal Checklist for Visualisations and Dashboards:\n",
    "1. Your visualisation needs to tell a story.\n",
    "2. It should be interpretable without being overly verbose.\n",
    "3. The scale and axis need to make sense (and you can assume the reader knows the difference between a normal scale vs log scale).\n",
    "4. The choice of visualisation needs to make sense:\n",
    "    - Line plot vs Bar chart with non-numerical categories\n",
    "    - Map plot with points vs clusters for each location\n",
    "    - Scatterplot vs Histogram plot to see distribution\n",
    "    - etc\n",
    "5. Choice of colour scheme / alpha / size need to be easy on the eyes.\n",
    "\n",
    "At the end of the day, even if you think your visualisation is \"pretty\" or \"beautiful\", if a reader cannot understand it, then it is not a good visualisation.\n",
    "\n",
    "Let's go through an example on **pickup locations**."
   ]
  },
  {
   "cell_type": "markdown",
   "metadata": {},
   "source": [
    "### Other Visualizations\n",
    "We recommend that you plot and look at these attributes in your own time using `matplotlib` and `seaborn`.\n",
    "\n",
    "Scatterplot of `fare_amount` vs `trip_amount`:  \n",
    "- What's the relationship look like? \n",
    "- Why are there many values around 0?\n",
    "    \n",
    "    \n",
    "Histogram and distribution plot of `fare_amount`, `trip_amount`, `trip_distance`:  \n",
    "- Is the distribution skewed? \n",
    "- Does a log transformation make the distribution nicer? \n",
    "- What outliers do we have?\n",
    "- What business rules should I be taking into account?\n",
    "    \n",
    "    \n",
    "Correlation Heatmap between attributes of relevance:  \n",
    "- Which attributes should we choose? Remember, Pearson's correlation only applies to numerical features and assumes a linear relationship.\n",
    "- Does correlation imply causality?\n",
    "    \n",
    "You may also apply relevant transformations where suitable i.e `log`. Just make sure you **state it clearly** in your figure caption or legend.\n",
    "\n",
    "A revision of skewness (in case you have forgotten and that's okay):\n",
    "\n",
    "<img src=https://mammothmemory.net/images/user/base/Maths/Statistics%20and%20probability/Standard%20deviation/skewed-distribution-graphs.c97bc76.jpg alt-text=\"skew\" width=800px>"
   ]
  },
  {
   "cell_type": "code",
   "execution_count": null,
   "metadata": {
    "vscode": {
     "languageId": "plaintext"
    }
   },
   "outputs": [],
   "source": [
    "import seaborn as sns\n",
    "import matplotlib.pyplot as plt"
   ]
  },
  {
   "cell_type": "code",
   "execution_count": null,
   "metadata": {
    "vscode": {
     "languageId": "plaintext"
    }
   },
   "outputs": [],
   "source": [
    "sns.heatmap(df.corr())\n",
    "# wow that's easy...\n",
    "\n",
    "plt.title('Pearson Correlation Metric')\n",
    "plt.show()\n",
    "# ... but is it really that easy? read below!"
   ]
  },
  {
   "cell_type": "markdown",
   "metadata": {},
   "source": [
    "Things to take note of:\n",
    "- `trip_distance` highly correlates with high tips, tolls and overall trip amount\n",
    "- `payment_type` seems to have some form of negative correlation with `tip_amount`. **Be careful as this is a discrete category.**\n",
    "- Having `VendorID`, `PULocationID`, `DOLocationID`, etc as features **is misleading**, why??? \n",
    "\n",
    "**Important:** Only include numerical and ordinal features when computing the Pearson Correlation metric. You cannot compute the correlation between a category and numerical feature (i.e `VendorID` vs `payment_type` vs `trip_distance`).\n",
    "\n",
    "How about Locations? Does correlation work for it?"
   ]
  },
  {
   "cell_type": "code",
   "execution_count": null,
   "metadata": {
    "vscode": {
     "languageId": "plaintext"
    }
   },
   "outputs": [],
   "source": [
    "CORR_COLS = [\n",
    "    \"passenger_count\", \"trip_distance\", \"fare_amount\", \"extra\", \n",
    "    \"mta_tax\", \"tip_amount\", \"tolls_amount\", \"improvement_surcharge\", \n",
    "    \"total_amount\", \"airport_fee\"\n",
    "]\n",
    "\n",
    "sns.heatmap(df[CORR_COLS].corr())\n",
    "\n",
    "plt.title('Pearson Correlation Metric')\n",
    "plt.show()"
   ]
  },
  {
   "cell_type": "markdown",
   "metadata": {},
   "source": [
    "- If you're interested in calculating correlation between nominal and continuous data, here's a [great explanation](https://stats.stackexchange.com/questions/119835/correlation-between-a-nominal-iv-and-a-continuous-dv-variable/124618#124618).   \n",
    "- Remember, you need to refer back to the data dictionary as well as the fare page: https://www1.nyc.gov/site/tlc/passengers/taxi-fare.page\n",
    "\n",
    "- You should especially take note of the fare page if you're looking to see how `RatecodeID` plays a role on the fare."
   ]
  },
  {
   "cell_type": "markdown",
   "metadata": {},
   "source": [
    "## Plot relationships between features / attributes"
   ]
  },
  {
   "cell_type": "markdown",
   "metadata": {},
   "source": [
    "## Research Goal: \n",
    "### - Which type of vehicle driver makes the most money per hour and why\n",
    "### - Which periods of the year do vehicle drivers make the most money during and why (could use external datasets of when and where social events are occurring which increase taxi / fhv demand)\n",
    "### - Which regions of NYC do vehicle drivers make the most money during and why\n",
    "### - How can taxi / fhv drivers maximise tip amounts in general\n",
    "### - When and where are traffic levels lowest during the year / day for NYC (requires external datasets)\n",
    "\n",
    "### Could also go the passenger route\n",
    "### - Which taxi / fhv service provides the cheapest service over the same distance\n",
    "### - Which taxi / fhv service leads to the most pleasant experience (driver ratings, frequency of sharing with different passengers, wait times, etc.)"
   ]
  }
 ],
 "metadata": {
  "language_info": {
   "name": "python"
  },
  "orig_nbformat": 4
 },
 "nbformat": 4,
 "nbformat_minor": 2
}
