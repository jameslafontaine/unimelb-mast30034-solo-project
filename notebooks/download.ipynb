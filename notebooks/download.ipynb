{
 "cells": [
  {
   "cell_type": "markdown",
   "metadata": {},
   "source": [
    "# Data Retrieval / Download"
   ]
  },
  {
   "cell_type": "code",
   "execution_count": 3,
   "metadata": {},
   "outputs": [],
   "source": [
    "from urllib.request import urlretrieve\n",
    "\n",
    "import os\n",
    "\n",
    "output_relative_dir = '../data/landing/'"
   ]
  },
  {
   "cell_type": "markdown",
   "metadata": {},
   "source": [
    "## TLC Datasets"
   ]
  },
  {
   "cell_type": "code",
   "execution_count": 4,
   "metadata": {},
   "outputs": [],
   "source": [
    "YEARS = ['2022']\n",
    "\n",
    "MONTHS = range(5, 12)\n",
    "\n",
    "VEHICLE_TYPES = ['yellow']"
   ]
  },
  {
   "cell_type": "code",
   "execution_count": 5,
   "metadata": {},
   "outputs": [],
   "source": [
    "import os\n",
    "\n",
    "# navigate to the raw data directory\n",
    "output_relative_dir = '../data/landing/tlc/'\n",
    "\n",
    "# check if it exists as it makedir will raise an error if it does exist\n",
    "if not os.path.exists(output_relative_dir):\n",
    "    os.makedirs(output_relative_dir)\n",
    "    \n",
    "# now, for each type of data set we will need, we will create the paths\n",
    "for type in VEHICLE_TYPES:\n",
    "    for year in YEARS:\n",
    "        if not os.path.exists(output_relative_dir + type):\n",
    "            os.makedirs(output_relative_dir + type)\n",
    "\n",
    "if not os.path.exists(output_relative_dir + 'taxi_zones'):\n",
    "    os.makedirs(output_relative_dir + 'taxi_zones')"
   ]
  },
  {
   "cell_type": "code",
   "execution_count": 6,
   "metadata": {},
   "outputs": [],
   "source": [
    "# this is the URL template as of 07/2023\n",
    "URL_TEMPLATE = \"https://d37ci6vzurychx.cloudfront.net/trip-data/\"#vehicleType_tripdata_year-month.parquet"
   ]
  },
  {
   "cell_type": "code",
   "execution_count": 7,
   "metadata": {},
   "outputs": [
    {
     "name": "stdout",
     "output_type": "stream",
     "text": [
      "Begin yellow\n",
      "Begin year 2022\n",
      "Begin month 05\n"
     ]
    },
    {
     "name": "stdout",
     "output_type": "stream",
     "text": [
      "Completed month 05\n",
      "Begin month 06\n",
      "Completed month 06\n",
      "Begin month 07\n",
      "Completed month 07\n",
      "Begin month 08\n",
      "Completed month 08\n",
      "Begin month 09\n",
      "Completed month 09\n",
      "Begin month 10\n",
      "Completed month 10\n",
      "Begin month 11\n",
      "Completed month 11\n",
      "Completed year 2022\n",
      "Completed yellow\n",
      "##########################################################\n"
     ]
    }
   ],
   "source": [
    "# data output relative directory is `../data/landing/`\n",
    "\n",
    "# download tlc datasets\n",
    "for type in VEHICLE_TYPES:\n",
    "    print(f\"Begin {type}\")\n",
    "    for year in YEARS:\n",
    "        tlc_output_dir = output_relative_dir + type\n",
    "        print(f\"Begin year {year}\")\n",
    "        for month in MONTHS:\n",
    "            # 0-fill i.e 1 -> 01, 2 -> 02, etc\n",
    "            month = str(month).zfill(2) \n",
    "            print(f\"Begin month {month}\")\n",
    "            \n",
    "            # generate url\n",
    "            url = f'{URL_TEMPLATE}{type}_tripdata_{year}-{month}.parquet'\n",
    "\n",
    "            # generate output location and filename\n",
    "            output_dir = f\"{tlc_output_dir}/{year}-{month}.parquet\"\n",
    "            # download\n",
    "            urlretrieve(url, output_dir) \n",
    "            \n",
    "            print(f\"Completed month {month}\")\n",
    "        print(f\"Completed year {year}\")\n",
    "    print(f\"Completed {type}\")\n",
    "    print(f\"##########################################################\")"
   ]
  },
  {
   "cell_type": "code",
   "execution_count": 8,
   "metadata": {},
   "outputs": [
    {
     "data": {
      "text/plain": [
       "('../data/landing/tlc//taxi_zones/taxi_zones.zip',\n",
       " <http.client.HTTPMessage at 0x7faf08bda1a0>)"
      ]
     },
     "execution_count": 8,
     "metadata": {},
     "output_type": "execute_result"
    }
   ],
   "source": [
    "# download taxi zones csv and shapefile\n",
    "\n",
    "import zipfile\n",
    "\n",
    "output_dir = f\"{output_relative_dir}/taxi_zones/taxi+_zone_lookup.csv\"\n",
    "\n",
    "url = 'https://d37ci6vzurychx.cloudfront.net/misc/taxi+_zone_lookup.csv'\n",
    "\n",
    "urlretrieve(url, output_dir) \n",
    "\n",
    "output_dir = f\"{output_relative_dir}/taxi_zones/taxi_zones.zip\"\n",
    "\n",
    "url = 'https://d37ci6vzurychx.cloudfront.net/misc/taxi_zones.zip'\n",
    "\n",
    "urlretrieve(url, output_dir) \n"
   ]
  },
  {
   "cell_type": "markdown",
   "metadata": {},
   "source": [
    "## External Datasets"
   ]
  },
  {
   "cell_type": "code",
   "execution_count": 9,
   "metadata": {},
   "outputs": [],
   "source": [
    "output_relative_dir = '../data/landing/'"
   ]
  },
  {
   "cell_type": "markdown",
   "metadata": {},
   "source": [
    "### Transit Subway Entrances and Exits"
   ]
  },
  {
   "cell_type": "code",
   "execution_count": 10,
   "metadata": {},
   "outputs": [
    {
     "data": {
      "text/plain": [
       "\"\\nfrom urllib.request import urlretrieve\\n\\nif not os.path.exists(output_relative_dir + 'subway_entr_exit'):\\n    os.makedirs(output_relative_dir + 'subway_entr_exit')\\n\\nurl = 'https://data.ny.gov/resource/i9wp-a4ja.csv?$query=SELECT%0A%20%20median(%60division%60)%20AS%20%60division%60%2C%0A%20%20median(%60line%60)%20AS%20%60line%60%2C%0A%20%20%60station_location%60%0AGROUP%20BY%20%60station_location%60'\\n\\noutput_dir = '../data/landing/subway_entr_exit/subway_entr_exit.csv'\\n\\nurlretrieve(url, output_dir) \\n\""
      ]
     },
     "execution_count": 10,
     "metadata": {},
     "output_type": "execute_result"
    }
   ],
   "source": [
    "'''\n",
    "from urllib.request import urlretrieve\n",
    "\n",
    "if not os.path.exists(output_relative_dir + 'subway_entr_exit'):\n",
    "    os.makedirs(output_relative_dir + 'subway_entr_exit')\n",
    "\n",
    "url = 'https://data.ny.gov/resource/i9wp-a4ja.csv?$query=SELECT%0A%20%20median(%60division%60)%20AS%20%60division%60%2C%0A%20%20median(%60line%60)%20AS%20%60line%60%2C%0A%20%20%60station_location%60%0AGROUP%20BY%20%60station_location%60'\n",
    "\n",
    "output_dir = '../data/landing/subway_entr_exit/subway_entr_exit.csv'\n",
    "\n",
    "urlretrieve(url, output_dir) \n",
    "'''\n",
    "\n",
    "# Download link doesn't work anymore"
   ]
  },
  {
   "cell_type": "code",
   "execution_count": 11,
   "metadata": {},
   "outputs": [],
   "source": [
    "import pandas as pd \n",
    "\n",
    "output_dir = '../data/landing/subway_entr_exit/subway_entr_exit.csv'\n",
    "\n",
    "pd.read_csv(output_dir).to_parquet('../data/landing/subway_entr_exit/subway_entr_exit.parquet')\n"
   ]
  },
  {
   "cell_type": "markdown",
   "metadata": {},
   "source": [
    "#### Testing subway_entr_exit parquet file"
   ]
  },
  {
   "cell_type": "code",
   "execution_count": 12,
   "metadata": {},
   "outputs": [
    {
     "name": "stderr",
     "output_type": "stream",
     "text": [
      "your 131072x1 screen size is bogus. expect trouble\n",
      "23/08/21 05:18:16 WARN Utils: Your hostname, DESKTOP-SATV84A resolves to a loopback address: 127.0.1.1; using 172.26.254.29 instead (on interface eth0)\n",
      "23/08/21 05:18:16 WARN Utils: Set SPARK_LOCAL_IP if you need to bind to another address\n",
      "Setting default log level to \"WARN\".\n",
      "To adjust logging level use sc.setLogLevel(newLevel). For SparkR, use setLogLevel(newLevel).\n",
      "23/08/21 05:18:18 WARN NativeCodeLoader: Unable to load native-hadoop library for your platform... using builtin-java classes where applicable\n"
     ]
    }
   ],
   "source": [
    "from pyspark.sql import SparkSession\n",
    "\n",
    "# Create a spark session (which will run spark jobs)\n",
    "spark = (\n",
    "    SparkSession.builder.appName(\"MAST30034 Project 1\")\n",
    "    .config(\"spark.sql.repl.eagerEval.enabled\", True) \n",
    "    .config(\"spark.sql.parquet.cacheMetadata\", \"true\")\n",
    "    .config(\"spark.sql.session.timeZone\", \"Etc/UTC\") # fix timestamps loaded by spark\n",
    "    .getOrCreate()\n",
    ")"
   ]
  },
  {
   "cell_type": "code",
   "execution_count": 13,
   "metadata": {},
   "outputs": [
    {
     "data": {
      "text/plain": [
       "472"
      ]
     },
     "execution_count": 13,
     "metadata": {},
     "output_type": "execute_result"
    }
   ],
   "source": [
    "subway_entr_exit = spark.read.parquet('../data/landing/subway_entr_exit/subway_entr_exit.parquet')\n",
    "\n",
    "\n",
    "subway_entr_exit.limit(5)\n",
    "\n",
    "subway_entr_exit.count()"
   ]
  },
  {
   "cell_type": "markdown",
   "metadata": {},
   "source": [
    "### Hotel Properties Citywide"
   ]
  },
  {
   "cell_type": "code",
   "execution_count": 14,
   "metadata": {},
   "outputs": [
    {
     "data": {
      "text/plain": [
       "('../data/landing/hotels/hotels.csv',\n",
       " <http.client.HTTPMessage at 0x7faf08bd91b0>)"
      ]
     },
     "execution_count": 14,
     "metadata": {},
     "output_type": "execute_result"
    }
   ],
   "source": [
    "from urllib.request import urlretrieve\n",
    "\n",
    "if not os.path.exists(output_relative_dir + 'hotels'):\n",
    "    os.makedirs(output_relative_dir + 'hotels')\n",
    "\n",
    "url = 'https://data.cityofnewyork.us/api/views/tjus-cn27/rows.csv?accessType=DOWNLOAD'\n",
    "\n",
    "output_dir = '../data/landing/hotels/hotels.csv'\n",
    "\n",
    "urlretrieve(url, output_dir) "
   ]
  },
  {
   "cell_type": "code",
   "execution_count": 15,
   "metadata": {},
   "outputs": [],
   "source": [
    "import pandas as pd \n",
    "\n",
    "pd.read_csv(output_dir).to_parquet('../data/landing/hotels/hotels.parquet')\n"
   ]
  },
  {
   "cell_type": "markdown",
   "metadata": {},
   "source": [
    "#### Testing hotels parquet file"
   ]
  },
  {
   "cell_type": "code",
   "execution_count": 16,
   "metadata": {},
   "outputs": [],
   "source": [
    "from pyspark.sql import SparkSession\n",
    "\n",
    "# Create a spark session (which will run spark jobs)\n",
    "spark = (\n",
    "    SparkSession.builder.appName(\"MAST30034 Project 1\")\n",
    "    .config(\"spark.sql.repl.eagerEval.enabled\", True) \n",
    "    .config(\"spark.sql.parquet.cacheMetadata\", \"true\")\n",
    "    .config(\"spark.sql.session.timeZone\", \"Etc/UTC\") # fix timestamps loaded by spark\n",
    "    .getOrCreate()\n",
    ")"
   ]
  },
  {
   "cell_type": "code",
   "execution_count": 17,
   "metadata": {},
   "outputs": [
    {
     "data": {
      "text/plain": [
       "5519"
      ]
     },
     "execution_count": 17,
     "metadata": {},
     "output_type": "execute_result"
    }
   ],
   "source": [
    "hotels = spark.read.parquet('../data/landing/hotels/hotels.parquet')\n",
    "\n",
    "\n",
    "hotels.limit(5)\n",
    "\n",
    "hotels.count()"
   ]
  },
  {
   "cell_type": "markdown",
   "metadata": {},
   "source": [
    "### NYC Airbnb Data\n"
   ]
  },
  {
   "cell_type": "code",
   "execution_count": 18,
   "metadata": {},
   "outputs": [
    {
     "data": {
      "text/plain": [
       "('../data/landing/airbnb/airbnb.csv',\n",
       " <http.client.HTTPMessage at 0x7faf00113340>)"
      ]
     },
     "execution_count": 18,
     "metadata": {},
     "output_type": "execute_result"
    }
   ],
   "source": [
    "from urllib.request import urlretrieve\n",
    "\n",
    "if not os.path.exists(output_relative_dir + 'airbnb'):\n",
    "    os.makedirs(output_relative_dir + 'airbnb')\n",
    "\n",
    "url = 'http://data.insideairbnb.com/united-states/ny/new-york-city/2022-12-04/visualisations/listings.csv'\n",
    "\n",
    "output_dir = '../data/landing/airbnb/airbnb.csv'\n",
    "\n",
    "urlretrieve(url, output_dir) "
   ]
  },
  {
   "cell_type": "code",
   "execution_count": 19,
   "metadata": {},
   "outputs": [],
   "source": [
    "import pandas as pd \n",
    "\n",
    "pd.read_csv(output_dir, dtype={\"license\": str}).to_parquet('../data/landing/airbnb/airbnb.parquet')\n",
    "\n",
    "\n"
   ]
  },
  {
   "cell_type": "markdown",
   "metadata": {},
   "source": [
    "#### Testing airbnb parquet file"
   ]
  },
  {
   "cell_type": "code",
   "execution_count": 20,
   "metadata": {},
   "outputs": [],
   "source": [
    "from pyspark.sql import SparkSession\n",
    "\n",
    "# Create a spark session (which will run spark jobs)\n",
    "spark = (\n",
    "    SparkSession.builder.appName(\"MAST30034 Project 1\")\n",
    "    .config(\"spark.sql.repl.eagerEval.enabled\", True) \n",
    "    .config(\"spark.sql.parquet.cacheMetadata\", \"true\")\n",
    "    .config(\"spark.sql.session.timeZone\", \"Etc/UTC\") # fix timestamps loaded by spark\n",
    "    .getOrCreate()\n",
    ")"
   ]
  },
  {
   "cell_type": "code",
   "execution_count": 21,
   "metadata": {},
   "outputs": [
    {
     "data": {
      "text/plain": [
       "41533"
      ]
     },
     "execution_count": 21,
     "metadata": {},
     "output_type": "execute_result"
    }
   ],
   "source": [
    "airbnb = spark.read.parquet('../data/landing/airbnb/airbnb.parquet')\n",
    "\n",
    "\n",
    "airbnb.limit(5)\n",
    "\n",
    "airbnb.count()"
   ]
  },
  {
   "cell_type": "markdown",
   "metadata": {},
   "source": [
    "### Census Data\n"
   ]
  },
  {
   "cell_type": "code",
   "execution_count": 22,
   "metadata": {},
   "outputs": [],
   "source": [
    "import zipfile\n",
    "\n",
    "# unzip zip\n",
    "with zipfile.ZipFile('../data/landing/census/census.zip', 'r') as zip_ref:\n",
    "    zip_ref.extractall('../data/landing/census/')"
   ]
  },
  {
   "cell_type": "code",
   "execution_count": 23,
   "metadata": {},
   "outputs": [],
   "source": [
    "import pandas as pd \n",
    "\n",
    "pd.read_csv('../data/landing/census/census_block_loc.csv').to_parquet('../data/landing/census/census_block_loc.parquet')\n",
    "\n",
    "pd.read_csv('../data/landing/census/nyc_census_tracts.csv').to_parquet('../data/landing/census/census_tracts.parquet')\n",
    "\n",
    "\n"
   ]
  },
  {
   "cell_type": "code",
   "execution_count": 24,
   "metadata": {},
   "outputs": [
    {
     "data": {
      "text/plain": [
       "StructType([StructField('id', LongType(), True), StructField('name', StringType(), True), StructField('host_id', LongType(), True), StructField('host_name', StringType(), True), StructField('neighbourhood_group', StringType(), True), StructField('neighbourhood', StringType(), True), StructField('latitude', DoubleType(), True), StructField('longitude', DoubleType(), True), StructField('room_type', StringType(), True), StructField('price', LongType(), True), StructField('minimum_nights', LongType(), True), StructField('number_of_reviews', LongType(), True), StructField('last_review', StringType(), True), StructField('reviews_per_month', DoubleType(), True), StructField('calculated_host_listings_count', LongType(), True), StructField('availability_365', LongType(), True), StructField('number_of_reviews_ltm', LongType(), True), StructField('license', StringType(), True)])"
      ]
     },
     "execution_count": 24,
     "metadata": {},
     "output_type": "execute_result"
    }
   ],
   "source": [
    "airbnb.schema"
   ]
  },
  {
   "cell_type": "markdown",
   "metadata": {},
   "source": [
    "#### Testing census parquet files"
   ]
  },
  {
   "cell_type": "code",
   "execution_count": 25,
   "metadata": {},
   "outputs": [],
   "source": [
    "from pyspark.sql import SparkSession\n",
    "\n",
    "# Create a spark session (which will run spark jobs)\n",
    "spark = (\n",
    "    SparkSession.builder.appName(\"MAST30034 Project 1\")\n",
    "    .config(\"spark.sql.repl.eagerEval.enabled\", True) \n",
    "    .config(\"spark.sql.parquet.cacheMetadata\", \"true\")\n",
    "    .config(\"spark.sql.session.timeZone\", \"Etc/UTC\") # fix timestamps loaded by spark\n",
    "    .getOrCreate()\n",
    ")"
   ]
  },
  {
   "cell_type": "code",
   "execution_count": 26,
   "metadata": {},
   "outputs": [
    {
     "data": {
      "text/plain": [
       "38396"
      ]
     },
     "execution_count": 26,
     "metadata": {},
     "output_type": "execute_result"
    }
   ],
   "source": [
    "census_block_loc = spark.read.parquet('../data/landing/census/census_block_loc.parquet')\n",
    "\n",
    "\n",
    "census_block_loc.limit(5)\n",
    "\n",
    "census_block_loc.count()"
   ]
  },
  {
   "cell_type": "code",
   "execution_count": 27,
   "metadata": {},
   "outputs": [
    {
     "data": {
      "text/plain": [
       "2167"
      ]
     },
     "execution_count": 27,
     "metadata": {},
     "output_type": "execute_result"
    }
   ],
   "source": [
    "census_tracts = spark.read.parquet('../data/landing/census/census_tracts.parquet')\n",
    "\n",
    "\n",
    "census_tracts.limit(5)\n",
    "\n",
    "census_tracts.count()"
   ]
  },
  {
   "cell_type": "markdown",
   "metadata": {},
   "source": [
    "### Parking Munimeters"
   ]
  },
  {
   "cell_type": "code",
   "execution_count": 28,
   "metadata": {},
   "outputs": [
    {
     "data": {
      "text/plain": [
       "('../data/landing/parking/parking.csv',\n",
       " <http.client.HTTPMessage at 0x7faf0009a230>)"
      ]
     },
     "execution_count": 28,
     "metadata": {},
     "output_type": "execute_result"
    }
   ],
   "source": [
    "from urllib.request import urlretrieve\n",
    "\n",
    "if not os.path.exists(output_relative_dir + 'parking'):\n",
    "    os.makedirs(output_relative_dir + 'parking')\n",
    "    \n",
    "url = 'https://data.cityofnewyork.us/api/geospatial/693u-uax6?accessType=DOWNLOAD&method=export&format=GeoJSON'\n",
    "\n",
    "output_dir = '../data/landing/parking/parking.geojson'\n",
    "\n",
    "urlretrieve(url, output_dir) \n",
    "\n",
    "url = 'https://data.cityofnewyork.us/api/views/693u-uax6/rows.csv?accessType=DOWNLOAD'\n",
    "\n",
    "output_dir = '../data/landing/parking/parking.csv'\n",
    "\n",
    "urlretrieve(url, output_dir) \n"
   ]
  },
  {
   "cell_type": "code",
   "execution_count": 29,
   "metadata": {},
   "outputs": [],
   "source": [
    "import pandas as pd \n",
    "\n",
    "pd.read_csv(output_dir).to_parquet('../data/landing/parking/parking.parquet')\n",
    "\n",
    "\n"
   ]
  },
  {
   "cell_type": "markdown",
   "metadata": {},
   "source": [
    "#### Testing parking parquet file"
   ]
  },
  {
   "cell_type": "code",
   "execution_count": 30,
   "metadata": {},
   "outputs": [],
   "source": [
    "from pyspark.sql import SparkSession\n",
    "\n",
    "# Create a spark session (which will run spark jobs)\n",
    "spark = (\n",
    "    SparkSession.builder.appName(\"MAST30034 Project 1\")\n",
    "    .config(\"spark.sql.repl.eagerEval.enabled\", True) \n",
    "    .config(\"spark.sql.parquet.cacheMetadata\", \"true\")\n",
    "    .config(\"spark.sql.session.timeZone\", \"Etc/UTC\") # fix timestamps loaded by spark\n",
    "    .getOrCreate()\n",
    ")"
   ]
  },
  {
   "cell_type": "code",
   "execution_count": 31,
   "metadata": {},
   "outputs": [
    {
     "data": {
      "text/html": [
       "<table border='1'>\n",
       "<tr><th>ObjectID</th><th>Meter Number</th><th>Status</th><th>Pay By Cell Number</th><th>Meter_Hours</th><th>Parking_Facility_Name</th><th>Facility</th><th>Borough</th><th>On_Street</th><th>Side_of_Street</th><th>From_Street</th><th>To_Street</th><th>Latitude</th><th>Longitude</th><th>X</th><th>Y</th><th>Location</th></tr>\n",
       "<tr><td>11750</td><td>1083076</td><td>Active</td><td>113091</td><td>2HR Pas Mon-Sat 0...</td><td>null</td><td>On Street</td><td>Manhattan</td><td>West 85 Street</td><td>N</td><td>Amsterdam Avenue</td><td>Broadway</td><td>40.7875051180999</td><td>-73.9765950135923</td><td>990731.235713214</td><td>226187.112964138</td><td>POINT (-73.976595...</td></tr>\n",
       "<tr><td>9857</td><td>1443404</td><td>Active</td><td>106172</td><td>3HR Com Mon-Fri 0...</td><td>null</td><td>On Street</td><td>Manhattan</td><td>West 30 Street</td><td>N</td><td>Broadway</td><td>5 Avenue</td><td>40.7461997160805</td><td>-73.9869404709221</td><td>987868.647606388</td><td>211137.590897888</td><td>POINT (-73.986940...</td></tr>\n",
       "<tr><td>11780</td><td>1193006</td><td>Active</td><td>113823</td><td>3HR Com Mon-Fri 0...</td><td>null</td><td>On Street</td><td>Manhattan</td><td>Lexington Avenue</td><td>W</td><td>East 85 Street</td><td>East 84 Street</td><td>40.7784865293823</td><td>-73.9564275260737</td><td>996317.58740139</td><td>222903.46992515</td><td>POINT (-73.956427...</td></tr>\n",
       "<tr><td>1111</td><td>4512493</td><td>Active</td><td>427918</td><td>6HR Pas Mon-Fri 0...</td><td>null</td><td>On Street</td><td>Queens</td><td>Kissena Boulevard</td><td>W</td><td>Horace Harding Ex...</td><td>Melbourne Avenue</td><td>40.7354393855834</td><td>-73.8148380161902</td><td>1035564.53745064</td><td>207271.225271061</td><td>POINT (-73.814838...</td></tr>\n",
       "<tr><td>10122</td><td>1443694</td><td>Active</td><td>106557</td><td>2HR Pas Mon-Sat 0...</td><td>null</td><td>On Street</td><td>Manhattan</td><td>3 Avenue</td><td>W</td><td>East 24 Street</td><td>East 25 Street</td><td>40.7399045161829</td><td>-73.9825104553208</td><td>989096.612670138</td><td>208844.263135478</td><td>POINT (-73.982510...</td></tr>\n",
       "</table>\n"
      ],
      "text/plain": [
       "+--------+------------+------+------------------+--------------------+---------------------+---------+---------+-----------------+--------------+--------------------+----------------+----------------+-----------------+----------------+----------------+--------------------+\n",
       "|ObjectID|Meter Number|Status|Pay By Cell Number|         Meter_Hours|Parking_Facility_Name| Facility|  Borough|        On_Street|Side_of_Street|         From_Street|       To_Street|        Latitude|        Longitude|               X|               Y|            Location|\n",
       "+--------+------------+------+------------------+--------------------+---------------------+---------+---------+-----------------+--------------+--------------------+----------------+----------------+-----------------+----------------+----------------+--------------------+\n",
       "|   11750|     1083076|Active|            113091|2HR Pas Mon-Sat 0...|                 null|On Street|Manhattan|   West 85 Street|             N|    Amsterdam Avenue|        Broadway|40.7875051180999|-73.9765950135923|990731.235713214|226187.112964138|POINT (-73.976595...|\n",
       "|    9857|     1443404|Active|            106172|3HR Com Mon-Fri 0...|                 null|On Street|Manhattan|   West 30 Street|             N|            Broadway|        5 Avenue|40.7461997160805|-73.9869404709221|987868.647606388|211137.590897888|POINT (-73.986940...|\n",
       "|   11780|     1193006|Active|            113823|3HR Com Mon-Fri 0...|                 null|On Street|Manhattan| Lexington Avenue|             W|      East 85 Street|  East 84 Street|40.7784865293823|-73.9564275260737| 996317.58740139| 222903.46992515|POINT (-73.956427...|\n",
       "|    1111|     4512493|Active|            427918|6HR Pas Mon-Fri 0...|                 null|On Street|   Queens|Kissena Boulevard|             W|Horace Harding Ex...|Melbourne Avenue|40.7354393855834|-73.8148380161902|1035564.53745064|207271.225271061|POINT (-73.814838...|\n",
       "|   10122|     1443694|Active|            106557|2HR Pas Mon-Sat 0...|                 null|On Street|Manhattan|         3 Avenue|             W|      East 24 Street|  East 25 Street|40.7399045161829|-73.9825104553208|989096.612670138|208844.263135478|POINT (-73.982510...|\n",
       "+--------+------------+------+------------------+--------------------+---------------------+---------+---------+-----------------+--------------+--------------------+----------------+----------------+-----------------+----------------+----------------+--------------------+"
      ]
     },
     "execution_count": 31,
     "metadata": {},
     "output_type": "execute_result"
    }
   ],
   "source": [
    "parking = spark.read.parquet('../data/landing/parking/parking.parquet')\n",
    "\n",
    "\n",
    "parking.limit(5)\n",
    "\n",
    "#parking.count()"
   ]
  }
 ],
 "metadata": {
  "kernelspec": {
   "display_name": "Python 3",
   "language": "python",
   "name": "python3"
  },
  "language_info": {
   "codemirror_mode": {
    "name": "ipython",
    "version": 3
   },
   "file_extension": ".py",
   "mimetype": "text/x-python",
   "name": "python",
   "nbconvert_exporter": "python",
   "pygments_lexer": "ipython3",
   "version": "3.10.12"
  },
  "orig_nbformat": 4
 },
 "nbformat": 4,
 "nbformat_minor": 2
}
