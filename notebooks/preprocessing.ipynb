{
 "cells": [
  {
   "cell_type": "markdown",
   "metadata": {},
   "source": [
    "# Spark (load in the data)"
   ]
  },
  {
   "cell_type": "code",
   "execution_count": null,
   "metadata": {},
   "outputs": [],
   "source": [
    "from pyspark.sql import SparkSession\n",
    "\n",
    "# Create a spark session (which will run spark jobs)\n",
    "spark = (\n",
    "    SparkSession.builder.appName(\"MAST30034 Project 1\")\n",
    "    .config(\"spark.sql.repl.eagerEval.enabled\", True) \n",
    "    .config(\"spark.sql.parquet.cacheMetadata\", \"true\")\n",
    "    .config(\"spark.sql.session.timeZone\", \"Etc/UTC\") # fix timestamps loaded by spark\n",
    "    .getOrCreate()\n",
    ")"
   ]
  },
  {
   "cell_type": "code",
   "execution_count": null,
   "metadata": {},
   "outputs": [],
   "source": [
    "sdf_yellow_2022_01 = spark.read.parquet('../data/raw/yellow/2022-01.parquet')\n",
    "\n",
    "sdf_yellow_all = spark.read.parquet('../data/raw/yellow')\n",
    "\n",
    "#sdf_green_all = spark.read.parquet('../data/raw/green')\n",
    "\n",
    "#sdf_fhv_all = spark.read.parquet('../data/raw/fhv')\n",
    "\n",
    "#sdf_fhvhv_all = spark.read.parquet('../data/raw/fhvhv')\n",
    "\n",
    "# may not be feasible to combine the datasets for different vehicle types, double check data dictionaries first\n",
    "\n",
    "#sdf_all = spark.read.parquet('../data/raw/')"
   ]
  },
  {
   "cell_type": "code",
   "execution_count": null,
   "metadata": {},
   "outputs": [],
   "source": [
    "sdf_yellow_2022_01.limit(5)\n",
    "\n",
    "#sdf_green_all.limit(5)\n",
    "\n",
    "#sdf_fhv_all.limit(5)\n",
    "\n",
    "#sdf_fhvhv_all.limit(5)"
   ]
  },
  {
   "cell_type": "code",
   "execution_count": null,
   "metadata": {},
   "outputs": [],
   "source": [
    "# check dataset dimensionality (shape)\n",
    "sdf_yellow_2022_01.count(), sdf_yellow_all.count()"
   ]
  },
  {
   "cell_type": "code",
   "execution_count": null,
   "metadata": {},
   "outputs": [],
   "source": [
    "# show first 10 records / rows for passenger count and trip distance attributes\n",
    "sdf_yellow_2022_01.select('passenger_count', 'trip_distance').limit(10) \n",
    "\n",
    "# access passenger count\n",
    "sdf_yellow_2022_01['passenger_count']\n",
    "\n",
    "\n"
   ]
  },
  {
   "cell_type": "code",
   "execution_count": null,
   "metadata": {},
   "outputs": [],
   "source": [
    "from pyspark.sql import functions as F\n",
    "\n",
    "# F.col('passenger_count') # column type for use with sdf.filter(F.col('passenger_count') == 5).limit(5)) for example\n",
    "\n",
    "# this example below retrieves records where passenger count and trip distance are non-zero\n",
    "''' sdf.where(\n",
    "    # != 0 is fine, but let's also take into account some more realistic filters\n",
    "    (F.col('passenger_count') > 0) \n",
    "    & (F.col('trip_distance') > 0)\n",
    ") '''\n",
    "\n",
    "# sdf.groupby('passenger_count').mean('trip_distance').limit(5) # groups passenger count by average trip distance"
   ]
  },
  {
   "cell_type": "markdown",
   "metadata": {},
   "source": [
    "## Removing certain features / records based on data limitations "
   ]
  },
  {
   "cell_type": "code",
   "execution_count": null,
   "metadata": {},
   "outputs": [],
   "source": []
  },
  {
   "cell_type": "markdown",
   "metadata": {},
   "source": [
    "## Engineering certain features based on their data type and the models that may / will be used"
   ]
  },
  {
   "cell_type": "markdown",
   "metadata": {},
   "source": [
    "#### Read business rules and particular limitations of the data carefully (e.g. tip amount not recorded for cash payment) to guide self in determining which attributes may need to be filtered / removed or transformed / engineered"
   ]
  }
 ],
 "metadata": {
  "kernelspec": {
   "display_name": "Python 3",
   "language": "python",
   "name": "python3"
  },
  "language_info": {
   "codemirror_mode": {
    "name": "ipython",
    "version": 3
   },
   "file_extension": ".py",
   "mimetype": "text/x-python",
   "name": "python",
   "nbconvert_exporter": "python",
   "pygments_lexer": "ipython3",
   "version": "3.10.6"
  },
  "orig_nbformat": 4
 },
 "nbformat": 4,
 "nbformat_minor": 2
}
