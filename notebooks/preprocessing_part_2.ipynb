{
 "cells": [
  {
   "cell_type": "markdown",
   "metadata": {},
   "source": [
    "# Raw Layer to Curated Layer (filter and transform using business logic, feature engineering, aggregation)"
   ]
  },
  {
   "cell_type": "code",
   "execution_count": 17,
   "metadata": {},
   "outputs": [],
   "source": [
    "from pyspark.sql import SparkSession\n",
    "\n",
    "# Create a spark session (which will run spark jobs)\n",
    "spark = (\n",
    "    SparkSession.builder.appName(\"MAST30034 Project 1\")\n",
    "    .config(\"spark.sql.repl.eagerEval.enabled\", True) \n",
    "    .config(\"spark.sql.parquet.cacheMetadata\", \"true\")\n",
    "    .config(\"spark.sql.session.timeZone\", \"Etc/UTC\") # fix timestamps loaded by spark\n",
    "    .getOrCreate()\n",
    ")"
   ]
  },
  {
   "cell_type": "markdown",
   "metadata": {},
   "source": [
    "## Yellow Taxis"
   ]
  },
  {
   "cell_type": "code",
   "execution_count": 2,
   "metadata": {},
   "outputs": [],
   "source": [
    "# make directories for curated data\n",
    "\n",
    "import os\n",
    "from pyspark.sql import functions as F\n",
    "\n",
    "if not os.path.exists('../data/curated/'):\n",
    "    os.makedirs('../data/curated/')\n",
    "    \n",
    "if not os.path.exists('../data/curated/tlc'):\n",
    "    os.makedirs('../data/curated/tlc')\n",
    "    \n",
    "if not os.path.exists('../data/curated/tlc/yellow'):\n",
    "    os.makedirs('../data/curated/tlc/yellow')"
   ]
  },
  {
   "cell_type": "markdown",
   "metadata": {},
   "source": [
    "### Load in data (this was used for testing / data exploration)"
   ]
  },
  {
   "cell_type": "code",
   "execution_count": 3,
   "metadata": {},
   "outputs": [
    {
     "name": "stderr",
     "output_type": "stream",
     "text": [
      "                                                                                \r"
     ]
    }
   ],
   "source": [
    "yellow_raw_dir = '../data/raw/tlc/yellow/'\n",
    "\n",
    "yellow_curated_dir = '../data/curated/tlc/yellow/'\n",
    "\n",
    "sdf_yellow_2022_05 = spark.read.parquet(f\"{yellow_raw_dir}2022-05.parquet\")\n",
    "\n",
    "\n",
    "\n"
   ]
  },
  {
   "cell_type": "markdown",
   "metadata": {},
   "source": [
    "### Data Investigation (mostly was used for double checking business logic)"
   ]
  },
  {
   "cell_type": "code",
   "execution_count": 4,
   "metadata": {},
   "outputs": [
    {
     "name": "stderr",
     "output_type": "stream",
     "text": [
      "                                                                                \r"
     ]
    },
    {
     "name": "stdout",
     "output_type": "stream",
     "text": [
      "50344\n",
      "1848\n"
     ]
    }
   ],
   "source": [
    "print(sdf_yellow_2022_05.where(\n",
    "        (F.col('extra') == 0)  # check what happens if a trip begins before rush hour starts\n",
    "        & (F.hour('tpep_pickup_datetime') < 16)\n",
    "        & (F.hour('tpep_dropoff_datetime') >= 16)\n",
    ").count())\n",
    "\n",
    "print(sdf_yellow_2022_05.where(\n",
    "        (F.col('extra') == 1)  # check what happens if a trip begins before rush hour starts\n",
    "        & (F.hour('tpep_pickup_datetime') < 16)\n",
    "        & (F.hour('tpep_dropoff_datetime') >= 16)\n",
    ").count())\n",
    "\n",
    "# appears that if a pickup occurs before rush hour begins, but the dropoff occurs after rush hour starts, no rush hour surcharge is applied\n",
    "# so we shall assume that the extra surcharges are applied based on pickup time\n",
    "\n"
   ]
  },
  {
   "cell_type": "code",
   "execution_count": 5,
   "metadata": {},
   "outputs": [
    {
     "name": "stdout",
     "output_type": "stream",
     "text": [
      "21562\n",
      "2486\n"
     ]
    }
   ],
   "source": [
    "print(sdf_yellow_2022_05.where(\n",
    "        (F.col('extra') == 1)  # check what happens if a trip begins during rush hour but ends in overnight timeslot\n",
    "        & (F.hour('tpep_pickup_datetime') < 20)\n",
    "        & (F.hour('tpep_dropoff_datetime') >= 20)\n",
    ").count())\n",
    "\n",
    "print(sdf_yellow_2022_05.where(\n",
    "        (F.col('extra') == 0.5)  # check what happens if a trip begins during rush hour but ends in overnight timeslot\n",
    "        & (F.hour('tpep_pickup_datetime') < 20)\n",
    "        & (F.hour('tpep_dropoff_datetime') >= 20)\n",
    ").count())"
   ]
  },
  {
   "cell_type": "code",
   "execution_count": 6,
   "metadata": {},
   "outputs": [
    {
     "name": "stdout",
     "output_type": "stream",
     "text": [
      "2905\n",
      "2446\n"
     ]
    }
   ],
   "source": [
    "print(sdf_yellow_2022_05.where(\n",
    "        (F.col('extra') == 0.5)  # check what happens if a trip begins during overnight slot but ends after it \n",
    "        & (F.hour('tpep_pickup_datetime') < 6)\n",
    "        & (F.hour('tpep_dropoff_datetime') >= 6)\n",
    ").count())\n",
    "\n",
    "print(sdf_yellow_2022_05.where(\n",
    "        (F.col('extra') == 0)  # check what happens if a trip begins during overnight slot but ends after it \n",
    "        & (F.hour('tpep_pickup_datetime') < 6)\n",
    "        & (F.hour('tpep_dropoff_datetime') >= 6)\n",
    ").count())"
   ]
  },
  {
   "cell_type": "code",
   "execution_count": 7,
   "metadata": {},
   "outputs": [
    {
     "data": {
      "text/plain": [
       "2569447"
      ]
     },
     "execution_count": 7,
     "metadata": {},
     "output_type": "execute_result"
    }
   ],
   "source": [
    "sdf_yellow_2022_05.where(\n",
    "    (F.col('extra') == 0)\n",
    "    | (F.col('extra') == 0.5)\n",
    "    | (F.col('extra') == 1)\n",
    ").count()"
   ]
  },
  {
   "cell_type": "code",
   "execution_count": 8,
   "metadata": {},
   "outputs": [
    {
     "data": {
      "text/plain": [
       "1018844"
      ]
     },
     "execution_count": 8,
     "metadata": {},
     "output_type": "execute_result"
    }
   ],
   "source": [
    "sdf_yellow_2022_05.where(\n",
    "    (F.col('extra') != 0)\n",
    "    & (F.col('extra') != 0.5)\n",
    "    & (F.col('extra') != 1)\n",
    "    & (F.col('extra') != 1.5)\n",
    ").count()"
   ]
  },
  {
   "cell_type": "code",
   "execution_count": 18,
   "metadata": {},
   "outputs": [
    {
     "name": "stdout",
     "output_type": "stream",
     "text": [
      "132\n",
      "138\n"
     ]
    }
   ],
   "source": [
    "# retrieve location ids for JFK and LaGuardia Airports\n",
    "\n",
    "taxi_zones = spark.read.parquet('../data/raw/tlc/taxi_zones/taxi_zone_lookup.parquet/')\n",
    "\n",
    "jfk_id = int(taxi_zones.where(\n",
    "    F.col('zone') == 'JFK Airport'\n",
    ").select('locationid').first()['locationid'])\n",
    "\n",
    "laguardia_id = int(taxi_zones.where(\n",
    "    F.col('zone') == 'LaGuardia Airport'\n",
    ").select('locationid').first()['locationid'])\n",
    "\n",
    "print(jfk_id)\n",
    "\n",
    "print(laguardia_id)\n"
   ]
  },
  {
   "cell_type": "markdown",
   "metadata": {},
   "source": [
    "### Use business logic to filter and transform data. Also remove invalid entries and perform feature engineering"
   ]
  },
  {
   "cell_type": "code",
   "execution_count": 21,
   "metadata": {},
   "outputs": [
    {
     "name": "stdout",
     "output_type": "stream",
     "text": [
      "=====================================================================\n",
      "Number of records for month 5 before filtering: 3588295\n"
     ]
    },
    {
     "name": "stderr",
     "output_type": "stream",
     "text": [
      "                                                                                \r"
     ]
    },
    {
     "name": "stdout",
     "output_type": "stream",
     "text": [
      "Number of records for month 5 after filtering: 1393990\n"
     ]
    },
    {
     "name": "stderr",
     "output_type": "stream",
     "text": [
      "                                                                                \r"
     ]
    },
    {
     "name": "stdout",
     "output_type": "stream",
     "text": [
      "=====================================================================\n"
     ]
    },
    {
     "name": "stderr",
     "output_type": "stream",
     "text": [
      "                                                                                \r"
     ]
    },
    {
     "name": "stdout",
     "output_type": "stream",
     "text": [
      "=====================================================================\n",
      "Number of records for month 6 before filtering: 3558124\n"
     ]
    },
    {
     "name": "stderr",
     "output_type": "stream",
     "text": [
      "                                                                                \r"
     ]
    },
    {
     "name": "stdout",
     "output_type": "stream",
     "text": [
      "Number of records for month 6 after filtering: 1392921\n"
     ]
    },
    {
     "name": "stderr",
     "output_type": "stream",
     "text": [
      "                                                                                \r"
     ]
    },
    {
     "name": "stdout",
     "output_type": "stream",
     "text": [
      "=====================================================================\n"
     ]
    },
    {
     "name": "stderr",
     "output_type": "stream",
     "text": [
      "                                                                                \r"
     ]
    },
    {
     "name": "stdout",
     "output_type": "stream",
     "text": [
      "=====================================================================\n",
      "Number of records for month 7 before filtering: 3174394\n"
     ]
    },
    {
     "name": "stderr",
     "output_type": "stream",
     "text": [
      "                                                                                \r"
     ]
    },
    {
     "name": "stdout",
     "output_type": "stream",
     "text": [
      "Number of records for month 7 after filtering: 1228419\n"
     ]
    },
    {
     "name": "stderr",
     "output_type": "stream",
     "text": [
      "                                                                                \r"
     ]
    },
    {
     "name": "stdout",
     "output_type": "stream",
     "text": [
      "=====================================================================\n"
     ]
    },
    {
     "name": "stderr",
     "output_type": "stream",
     "text": [
      "                                                                                \r"
     ]
    },
    {
     "name": "stdout",
     "output_type": "stream",
     "text": [
      "=====================================================================\n",
      "Number of records for month 8 before filtering: 3152677\n"
     ]
    },
    {
     "name": "stderr",
     "output_type": "stream",
     "text": [
      "                                                                                \r"
     ]
    },
    {
     "name": "stdout",
     "output_type": "stream",
     "text": [
      "Number of records for month 8 after filtering: 1234481\n"
     ]
    },
    {
     "name": "stderr",
     "output_type": "stream",
     "text": [
      "                                                                                \r"
     ]
    },
    {
     "name": "stdout",
     "output_type": "stream",
     "text": [
      "=====================================================================\n"
     ]
    },
    {
     "name": "stderr",
     "output_type": "stream",
     "text": [
      "                                                                                \r"
     ]
    },
    {
     "name": "stdout",
     "output_type": "stream",
     "text": [
      "=====================================================================\n",
      "Number of records for month 9 before filtering: 3183767\n"
     ]
    },
    {
     "name": "stderr",
     "output_type": "stream",
     "text": [
      "                                                                                \r"
     ]
    },
    {
     "name": "stdout",
     "output_type": "stream",
     "text": [
      "Number of records for month 9 after filtering: 1254802\n"
     ]
    },
    {
     "name": "stderr",
     "output_type": "stream",
     "text": [
      "                                                                                \r"
     ]
    },
    {
     "name": "stdout",
     "output_type": "stream",
     "text": [
      "=====================================================================\n"
     ]
    },
    {
     "name": "stderr",
     "output_type": "stream",
     "text": [
      "                                                                                \r"
     ]
    },
    {
     "name": "stdout",
     "output_type": "stream",
     "text": [
      "=====================================================================\n",
      "Number of records for month 10 before filtering: 3675411\n"
     ]
    },
    {
     "name": "stderr",
     "output_type": "stream",
     "text": [
      "                                                                                \r"
     ]
    },
    {
     "name": "stdout",
     "output_type": "stream",
     "text": [
      "Number of records for month 10 after filtering: 1457803\n"
     ]
    },
    {
     "name": "stderr",
     "output_type": "stream",
     "text": [
      "                                                                                \r"
     ]
    },
    {
     "name": "stdout",
     "output_type": "stream",
     "text": [
      "=====================================================================\n"
     ]
    },
    {
     "name": "stderr",
     "output_type": "stream",
     "text": [
      "                                                                                \r"
     ]
    },
    {
     "name": "stdout",
     "output_type": "stream",
     "text": [
      "=====================================================================\n",
      "Number of records for month 11 before filtering: 3252717\n"
     ]
    },
    {
     "name": "stderr",
     "output_type": "stream",
     "text": [
      "                                                                                \r"
     ]
    },
    {
     "name": "stdout",
     "output_type": "stream",
     "text": [
      "Number of records for month 11 after filtering: 1392964\n"
     ]
    },
    {
     "name": "stderr",
     "output_type": "stream",
     "text": [
      "                                                                                \r"
     ]
    },
    {
     "name": "stdout",
     "output_type": "stream",
     "text": [
      "=====================================================================\n"
     ]
    },
    {
     "name": "stderr",
     "output_type": "stream",
     "text": [
      "                                                                                \r"
     ]
    }
   ],
   "source": [
    "from pyspark.sql import functions as F\n",
    "\n",
    "# columns which are supposed to add up to total amount\n",
    "payment_cols = ['fare_amount', 'extra', 'mta_tax', 'tip_amount', 'tolls_amount', 'improvement_surcharge', 'congestion_surcharge', 'airport_fee']\n",
    "\n",
    "# number of records before filtering\n",
    "before_filt_sum = 0\n",
    "\n",
    "# number of records after filtering\n",
    "after_filt_sum = 0\n",
    "\n",
    "yellow_raw_dir = '../data/raw/tlc/yellow/'\n",
    "    \n",
    "yellow_curated_dir = '../data/curated/tlc/yellow/'\n",
    "\n",
    "YEARS = ['2022']\n",
    "\n",
    "MONTHS = range(5,12)\n",
    "\n",
    "for year in YEARS:   \n",
    "    for month in MONTHS:\n",
    "        \n",
    "        sdf = spark.read.parquet(f\"{yellow_raw_dir}{year}-{str(month).zfill(2)}.parquet\")  \n",
    "        \n",
    "        #################################### Remove invalid records by applying business logic ####################################\n",
    "        \n",
    "        print(f\"=====================================================================\")\n",
    "        print(f\"Number of records for month {month} before filtering: {sdf.count()}\")\n",
    "        before_filt_sum += sdf.count()\n",
    "        \n",
    "        sdf = \\\n",
    "        sdf.where(\n",
    "            (F.year('tpep_pickup_datetime') == year) # ensure that this trip was initiated within the correct year (assuming a trip belongs to a year based on pickup time)\n",
    "            & (F.month('tpep_pickup_datetime') == month)  # ensure that this trip was initiated within the correct month (assuming a trip belongs to a month based on pickup time)\n",
    "            & (F.unix_timestamp('tpep_pickup_datetime') < F.unix_timestamp('tpep_dropoff_datetime') - 60) # 1 minute minimum trip time\n",
    "            & (F.col('passenger_count') > 0) # ensure non-zero passenger count, but also within 6 people based on the law\n",
    "            & (F.col('passenger_count') <= 6)\n",
    "            & (F.col('trip_distance') > 0.25) # remove extremely short / negative trip distance based on assumed distance people are willing to walk before taking a taxi\n",
    "            & (F.col('trip_distance') < 300) # remove extreme outliers for trip distance (trips around and above this distance generally appear invalid / erroneous)\n",
    "            & (F.col('pulocationid') >= 1) # ensure trips are only within the specified range of locations\n",
    "            & (F.col('pulocationid') <= 263)\n",
    "            & (F.col('dolocationid') >= 1)\n",
    "            & (F.col('dolocationid') <= 263)\n",
    "            & (F.col('total_amount') >= 2.50) # ensure non-negative fees, minimum of $2.50 for standard fares\n",
    "            & (F.col('fare_amount') >= 2.50) \n",
    "            & (F.col('tip_amount') >= 0) \n",
    "            & (F.col('tolls_amount') >= 0)\n",
    "            & (F.col('payment_type') == 1) # include only credit card payments as cash tips are not included in this data\n",
    "            & (F.col('total_amount') == sum(sdf[col] for col in payment_cols)) # check the total amount equals the sum of all other fees\n",
    "        ).where(\n",
    "            (F.col('vendorid') == 1) # check for valid vendor id\n",
    "            | (F.col('vendorid') == 2)  \n",
    "        ).where(\n",
    "            (F.col('ratecodeid') == 1) # standard, JFK, and Newark rates suitable for this research based on the locations covered\n",
    "            | (F.col('ratecodeid') == 2)  \n",
    "            | (F.col('ratecodeid') == 3)\n",
    "        ).where(\n",
    "            (F.col('mta_tax') == 0.50) # $0.50 MTA tax for trips that end in NYC (but not Newark).\n",
    "            & (F.col('dolocationid') != 1)  \n",
    "            | (F.col('mta_tax') == 0)\n",
    "            & (F.col('dolocationid') == 1)  \n",
    "        ).where(\n",
    "            (F.col('improvement_surcharge') == 0) # check improvement surcharge is either $0 or $0.30\n",
    "            | (F.col('improvement_surcharge') == 0.30)\n",
    "        ).where(\n",
    "            (F.col('congestion_surcharge') == 0) # check congestion surcharge is either $0 or $2.50 for yellow taxis\n",
    "            | (F.col('congestion_surcharge') == 2.50)\n",
    "        ).where(\n",
    "            (F.col('airport_fee') == 0) # ensure airport fee was only applied for pickup at JFK or LaGuardia\n",
    "            & (F.col('pulocationid') != jfk_id)\n",
    "            & (F.col('pulocationid') != laguardia_id)\n",
    "            | (F.col('pulocationid') == jfk_id)\n",
    "            & (F.col('airport_fee') == 1.25)\n",
    "            | (F.col('pulocationid') == laguardia_id)\n",
    "            & (F.col('airport_fee') == 1.25)  \n",
    "        ).dropna(\n",
    "            'any' # remove any records containing NULL values as it will be assumed these are invalid / erroneous entries \n",
    "        ).withColumn( # split datetime into separate units of time\n",
    "            'hour',\n",
    "            (F.hour('tpep_pickup_datetime'))\n",
    "        ).withColumn(\n",
    "            'day_of_month',\n",
    "            (F.dayofmonth('tpep_pickup_datetime'))\n",
    "        ).withColumn(\n",
    "            'month',\n",
    "            (F.month('tpep_pickup_datetime'))\n",
    "        ).withColumn(\n",
    "            'year',\n",
    "            (F.year('tpep_pickup_datetime'))\n",
    "        ).withColumn(\n",
    "            'day_of_week',\n",
    "            (F.dayofweek('tpep_pickup_datetime'))\n",
    "        ).withColumn(\n",
    "            'day_of_year',\n",
    "            (F.dayofyear('tpep_pickup_datetime'))\n",
    "        ).withColumn(\n",
    "            'is_weekday',\n",
    "            F.when(\n",
    "                (F.col('day_of_week') != 1)\n",
    "                & (F.col('day_of_week') != 7),\n",
    "                True\n",
    "            ).otherwise(False)\n",
    "        ).withColumn(\n",
    "            'is_public_holiday',\n",
    "            F.when(\n",
    "                (F.col('day_of_month') == 25) # Christmas Day\n",
    "                & (F.col('month') == 12)\n",
    "                | (F.col('day_of_month') == 1) # New Year's Day\n",
    "                & (F.col('month') == 1)\n",
    "                | (F.col('day_of_month') == 4) # Independence Day\n",
    "                & (F.col('month') == 7)\n",
    "                | (F.col('day_of_month') == 11) # Veteran's Day\n",
    "                & (F.col('month') == 11)\n",
    "                | (F.col('day_of_month') == 12) # Lincoln's Birthday\n",
    "                & (F.col('month') == 2)\n",
    "                | (F.col('day_of_month') == 19) # Juneteenth\n",
    "                & (F.col('month') == 6)\n",
    "                | (F.col('day_of_month') == 17) # Martin Luther King Jr. Day 2022\n",
    "                & (F.col('month') == 1)\n",
    "                & (F.col('year') == 2022)\n",
    "                | (F.col('day_of_month') == 21) # Washington's Birthday 2022\n",
    "                & (F.col('month') == 2)\n",
    "                & (F.col('year') == 2022)\n",
    "                | (F.col('day_of_month') == 30) # Memorial Day 2022\n",
    "                & (F.col('month') == 5)\n",
    "                & (F.col('year') == 2022)\n",
    "                | (F.col('day_of_month') == 5) # Labor Day 2022\n",
    "                & (F.col('month') == 9)\n",
    "                & (F.col('year') == 2022)\n",
    "                | (F.col('day_of_month') == 10) # Columbus Day 2022\n",
    "                & (F.col('month') == 10)\n",
    "                & (F.col('year') == 2022)\n",
    "                | (F.col('day_of_month') == 24) # Thanksgiving 2022\n",
    "                & (F.col('month') == 11)\n",
    "                & (F.col('year') == 2022),\n",
    "                True\n",
    "            ).otherwise(False)\n",
    "        ).where( # note that it is assumed that extra surcharges are applied based on pickup time, and rush hour surcharges are therefore applied if a trip\n",
    "                 # begins in rush hour but ends in the overnight timeslot\n",
    "            (F.col('extra') == 1.00) # ensure rush hour surcharge only applied for trips that begin during rush hour\n",
    "            & (F.hour('tpep_pickup_datetime') >= 16)\n",
    "            & (F.hour('tpep_pickup_datetime') < 20)\n",
    "            | (F.col('extra') == 0)  # no surcharge for trips that don't fall within rush hour or overnight time slots\n",
    "            & (F.hour('tpep_pickup_datetime') >= 6)\n",
    "            & (F.hour('tpep_pickup_datetime') < 16)\n",
    "            | (F.col('extra') == 0) # no rush hour surcharge for weekends\n",
    "            & (F.col('is_weekday') == False) \n",
    "            & (F.hour('tpep_pickup_datetime') >= 16)\n",
    "            & (F.hour('tpep_pickup_datetime') < 20)\n",
    "            | (F.col('extra') == 0) # no rush hour surcharge for holidays\n",
    "            & (F.col('is_public_holiday') == True) \n",
    "            & (F.hour('tpep_pickup_datetime') >= 16)\n",
    "            & (F.hour('tpep_pickup_datetime') < 20)\n",
    "            | (F.col('extra') == 0.50) # ensure overnight surcharge only applied for overnight trips\n",
    "            & (F.hour('tpep_pickup_datetime') >= 20)\n",
    "            | (F.col('extra') == 0.50)\n",
    "            & (F.hour('tpep_pickup_datetime') < 6)\n",
    "        )\n",
    "    \n",
    "        print(f\"Number of records for month {month} after filtering: {sdf.count()}\")\n",
    "        after_filt_sum += sdf.count()\n",
    "        print(f\"=====================================================================\")\n",
    "        \n",
    "        ################################## Feature Engineering ##################################\n",
    "        sdf = sdf.withColumn(\n",
    "            'total_minus_tolls', # work out how much money a taxi trip made after accounting for tolls paid\n",
    "            F.col('total_amount') - F.col('tolls_amount')\n",
    "        ).withColumn(\n",
    "            'trip_time_minutes', # record time of a trip in minutes\n",
    "            (F.unix_timestamp('tpep_dropoff_datetime') - F.unix_timestamp('tpep_pickup_datetime')) / 60\n",
    "        ).groupBy(['year', 'month', 'day_of_month', 'day_of_week', 'hour', 'pulocationid', 'is_weekday', 'is_public_holiday']) \\\n",
    "            .agg(F.avg(F.col('total_minus_tolls') / F.col('trip_distance') / 5).alias('avg_usd_per_1/5_mile'), # record metrics for each taxi zone after grouping by hour and pickup location\n",
    "                F.avg(F.col('total_minus_tolls') / F.col('trip_time_minutes')).alias('avg_usd_per_minute'),\n",
    "                F.count('pulocationid').alias('number_of_trips_here')\n",
    "        )\n",
    "            \n",
    "        # count the number of total trips across NYC within each hour\n",
    "        num_trips_nyc = sdf.groupBy(['year', 'month', 'day_of_month', 'hour']).agg(F.sum(F.col('number_of_trips_here')).alias('number_of_trips_nyc'))\n",
    "        \n",
    "        sdf = sdf.join(num_trips_nyc, ['year', 'month', 'day_of_month', 'hour'], 'inner')\n",
    "        \n",
    "        # create a hourly zone profitability metric which combines the avg usd per 1/5 mile and the avg usd per minute of a location, and multiplies it\n",
    "        # by the number of trips in that location for the hour\n",
    "        sdf = sdf.withColumn(\n",
    "            'zone_profitability',\n",
    "            (F.col('avg_usd_per_1/5_mile') + F.col('avg_usd_per_minute')) * (F.col('number_of_trips_here'))\n",
    "        ).orderBy(F.col('zone_profitability').desc())\n",
    "        \n",
    "        # save this month to curated directory\n",
    "        sdf \\\n",
    "        .coalesce(1) \\\n",
    "        .write \\\n",
    "        .mode('overwrite') \\\n",
    "        .parquet(f\"{yellow_curated_dir}{year}-{month}.parquet\")\n",
    "    "
   ]
  },
  {
   "cell_type": "code",
   "execution_count": 22,
   "metadata": {},
   "outputs": [
    {
     "name": "stdout",
     "output_type": "stream",
     "text": [
      "Total number of records before filtering: 23585385\n",
      "Total number of records after filtering: 9355380\n"
     ]
    }
   ],
   "source": [
    "print(f\"Total number of records before filtering: {before_filt_sum}\")\n",
    "      \n",
    "print(f\"Total number of records after filtering: {after_filt_sum}\")"
   ]
  },
  {
   "cell_type": "markdown",
   "metadata": {},
   "source": [
    "### Checking out the curated data"
   ]
  },
  {
   "cell_type": "code",
   "execution_count": 6,
   "metadata": {},
   "outputs": [
    {
     "data": {
      "text/plain": [
       "332627"
      ]
     },
     "execution_count": 6,
     "metadata": {},
     "output_type": "execute_result"
    }
   ],
   "source": [
    "sdf_yellow_all = spark.read.parquet(f\"{yellow_curated_dir}*\")\n",
    "\n",
    "sdf_yellow_all.count()"
   ]
  },
  {
   "cell_type": "code",
   "execution_count": 41,
   "metadata": {},
   "outputs": [
    {
     "name": "stdout",
     "output_type": "stream",
     "text": [
      "+----+-----+------------+----+-----------+------------+--------------------+------------------+--------------------+--------------+----------+-----------------+-------------------+--------------------+\n",
      "|year|month|day_of_month|hour|day_of_week|pulocationid|avg_usd_per_1/5_mile|avg_usd_per_minute|number_of_trips_here|is_yellow_taxi|is_weekday|is_public_holiday|number_of_trips_nyc|  zone_profitability|\n",
      "+----+-----+------------+----+-----------+------------+--------------------+------------------+--------------------+--------------+----------+-----------------+-------------------+--------------------+\n",
      "|2022|    5|          30|   0|          2|           4|  1.5698860765527431|1.6812467412467413|                   3|          true|      true|             true|               1028|0.009487741686185266|\n",
      "|2022|    5|          30|   0|          2|           7|  1.5025081969857867|1.5670594162569307|                   3|          true|      true|             true|               1028|0.008957882139813376|\n",
      "|2022|    5|          30|   0|          2|          10|  0.7758848230353929| 2.590253671562083|                   1|          true|      true|             true|               1028|0.003274453788518945|\n",
      "|2022|    5|          30|   0|          2|          13|  1.2634226043418026|1.7768936061776794|                   4|          true|      true|             true|               1028|0.011830024165445456|\n",
      "|2022|    5|          30|   0|          2|          17|  0.8029850746268655| 1.365482233502538|                   1|          true|      true|             true|               1028|0.002109403996234...|\n",
      "|2022|    5|          30|   0|          2|          24|  1.3609222337711424|1.7267495513970776|                   2|          true|      true|             true|               1028|0.006007143550910...|\n",
      "|2022|    5|          30|   0|          2|          25|   1.268044998479781|1.5473793103448275|                   2|          true|      true|             true|               1028|0.005477479200047877|\n",
      "|2022|    5|          30|   0|          2|          33|  0.7681818181818181|1.7201017811704835|                   1|          true|      true|             true|               1028|0.002420509337891344|\n",
      "|2022|    5|          30|   0|          2|          41|  1.6580357142857143|1.4968500948766603|                   2|          true|      true|             true|               1028|0.006137910134557149|\n",
      "|2022|    5|          30|   0|          2|          42|  1.6828571428571428| 1.699144310823312|                   2|          true|      true|             true|               1028|0.006579769365137072|\n",
      "+----+-----+------------+----+-----------+------------+--------------------+------------------+--------------------+--------------+----------+-----------------+-------------------+--------------------+\n",
      "only showing top 10 rows\n",
      "\n"
     ]
    }
   ],
   "source": [
    "sdf_yellow_all.orderBy(\"year\", \"month\", \"day_of_month\", \"hour\", \"pulocationid\").where(F.col('is_public_holiday') == True).show(10)"
   ]
  },
  {
   "cell_type": "code",
   "execution_count": 39,
   "metadata": {},
   "outputs": [
    {
     "data": {
      "text/plain": [
       "[Row(year=2022, month=11, day_of_month=30, hour=23, day_of_week=4, pulocationid=249, avg_usd_per_1/5_mile=1.496743223535352, avg_usd_per_minute=1.5574090991149905, number_of_trips_here=70, is_yellow_taxi=True, is_weekday=True, is_public_holiday=False, number_of_trips_nyc=1914, zone_profitability=0.11169836080748377),\n",
       " Row(year=2022, month=11, day_of_month=30, hour=23, day_of_week=4, pulocationid=255, avg_usd_per_1/5_mile=1.0586806332408358, avg_usd_per_minute=1.2296842789922902, number_of_trips_here=3, is_yellow_taxi=True, is_weekday=True, is_public_holiday=False, number_of_trips_nyc=1914, zone_profitability=0.0035867788592995704),\n",
       " Row(year=2022, month=11, day_of_month=30, hour=23, day_of_week=4, pulocationid=261, avg_usd_per_1/5_mile=1.4467818263681513, avg_usd_per_minute=1.872403795657228, number_of_trips_here=10, is_yellow_taxi=True, is_weekday=True, is_public_holiday=False, number_of_trips_nyc=1914, zone_profitability=0.01734161766993406),\n",
       " Row(year=2022, month=11, day_of_month=30, hour=23, day_of_week=4, pulocationid=262, avg_usd_per_1/5_mile=2.3635167464114835, avg_usd_per_minute=2.344500204625825, number_of_trips_here=4, is_yellow_taxi=True, is_weekday=True, is_public_holiday=False, number_of_trips_nyc=1914, zone_profitability=0.009839115885135441),\n",
       " Row(year=2022, month=11, day_of_month=30, hour=23, day_of_week=4, pulocationid=263, avg_usd_per_1/5_mile=1.8301528832411607, avg_usd_per_minute=2.302321860666068, number_of_trips_here=29, is_yellow_taxi=True, is_weekday=True, is_public_holiday=False, number_of_trips_nyc=1914, zone_profitability=0.06261325369556407)]"
      ]
     },
     "execution_count": 39,
     "metadata": {},
     "output_type": "execute_result"
    }
   ],
   "source": [
    "sdf_yellow_all.orderBy(\"year\", \"month\", \"day_of_month\", \"hour\", \"pulocationid\").tail(5)\n",
    "                        "
   ]
  },
  {
   "cell_type": "markdown",
   "metadata": {},
   "source": [
    "## Create geometry dataframe\n",
    "This will be used for merging geometry with location IDs"
   ]
  },
  {
   "cell_type": "code",
   "execution_count": 23,
   "metadata": {},
   "outputs": [],
   "source": [
    "import pandas as pd\n",
    "import geopandas as gpd"
   ]
  },
  {
   "cell_type": "code",
   "execution_count": 24,
   "metadata": {},
   "outputs": [
    {
     "data": {
      "text/html": [
       "<div>\n",
       "<style scoped>\n",
       "    .dataframe tbody tr th:only-of-type {\n",
       "        vertical-align: middle;\n",
       "    }\n",
       "\n",
       "    .dataframe tbody tr th {\n",
       "        vertical-align: top;\n",
       "    }\n",
       "\n",
       "    .dataframe thead th {\n",
       "        text-align: right;\n",
       "    }\n",
       "</style>\n",
       "<table border=\"1\" class=\"dataframe\">\n",
       "  <thead>\n",
       "    <tr style=\"text-align: right;\">\n",
       "      <th></th>\n",
       "      <th>OBJECTID</th>\n",
       "      <th>Shape_Leng</th>\n",
       "      <th>Shape_Area</th>\n",
       "      <th>zone</th>\n",
       "      <th>LocationID</th>\n",
       "      <th>borough</th>\n",
       "      <th>geometry</th>\n",
       "    </tr>\n",
       "  </thead>\n",
       "  <tbody>\n",
       "    <tr>\n",
       "      <th>0</th>\n",
       "      <td>1</td>\n",
       "      <td>0.116357</td>\n",
       "      <td>0.000782</td>\n",
       "      <td>Newark Airport</td>\n",
       "      <td>1</td>\n",
       "      <td>EWR</td>\n",
       "      <td>POLYGON ((933100.918 192536.086, 933091.011 19...</td>\n",
       "    </tr>\n",
       "    <tr>\n",
       "      <th>1</th>\n",
       "      <td>2</td>\n",
       "      <td>0.433470</td>\n",
       "      <td>0.004866</td>\n",
       "      <td>Jamaica Bay</td>\n",
       "      <td>2</td>\n",
       "      <td>Queens</td>\n",
       "      <td>MULTIPOLYGON (((1033269.244 172126.008, 103343...</td>\n",
       "    </tr>\n",
       "    <tr>\n",
       "      <th>2</th>\n",
       "      <td>3</td>\n",
       "      <td>0.084341</td>\n",
       "      <td>0.000314</td>\n",
       "      <td>Allerton/Pelham Gardens</td>\n",
       "      <td>3</td>\n",
       "      <td>Bronx</td>\n",
       "      <td>POLYGON ((1026308.770 256767.698, 1026495.593 ...</td>\n",
       "    </tr>\n",
       "    <tr>\n",
       "      <th>3</th>\n",
       "      <td>4</td>\n",
       "      <td>0.043567</td>\n",
       "      <td>0.000112</td>\n",
       "      <td>Alphabet City</td>\n",
       "      <td>4</td>\n",
       "      <td>Manhattan</td>\n",
       "      <td>POLYGON ((992073.467 203714.076, 992068.667 20...</td>\n",
       "    </tr>\n",
       "    <tr>\n",
       "      <th>4</th>\n",
       "      <td>5</td>\n",
       "      <td>0.092146</td>\n",
       "      <td>0.000498</td>\n",
       "      <td>Arden Heights</td>\n",
       "      <td>5</td>\n",
       "      <td>Staten Island</td>\n",
       "      <td>POLYGON ((935843.310 144283.336, 936046.565 14...</td>\n",
       "    </tr>\n",
       "  </tbody>\n",
       "</table>\n",
       "</div>"
      ],
      "text/plain": [
       "   OBJECTID  Shape_Leng  Shape_Area                     zone  LocationID  \\\n",
       "0         1    0.116357    0.000782           Newark Airport           1   \n",
       "1         2    0.433470    0.004866              Jamaica Bay           2   \n",
       "2         3    0.084341    0.000314  Allerton/Pelham Gardens           3   \n",
       "3         4    0.043567    0.000112            Alphabet City           4   \n",
       "4         5    0.092146    0.000498            Arden Heights           5   \n",
       "\n",
       "         borough                                           geometry  \n",
       "0            EWR  POLYGON ((933100.918 192536.086, 933091.011 19...  \n",
       "1         Queens  MULTIPOLYGON (((1033269.244 172126.008, 103343...  \n",
       "2          Bronx  POLYGON ((1026308.770 256767.698, 1026495.593 ...  \n",
       "3      Manhattan  POLYGON ((992073.467 203714.076, 992068.667 20...  \n",
       "4  Staten Island  POLYGON ((935843.310 144283.336, 936046.565 14...  "
      ]
     },
     "execution_count": 24,
     "metadata": {},
     "output_type": "execute_result"
    }
   ],
   "source": [
    "# sf stands for shape file\n",
    "sf = gpd.read_file(\"../data/raw/tlc/taxi_zones/taxi_zones.shp\")\n",
    "zones = pd.read_parquet(\"../data/raw/tlc/taxi_zones/taxi_zone_lookup.parquet\")\n",
    "\n",
    "sf.head()"
   ]
  },
  {
   "cell_type": "code",
   "execution_count": 25,
   "metadata": {},
   "outputs": [
    {
     "data": {
      "text/html": [
       "<div>\n",
       "<style scoped>\n",
       "    .dataframe tbody tr th:only-of-type {\n",
       "        vertical-align: middle;\n",
       "    }\n",
       "\n",
       "    .dataframe tbody tr th {\n",
       "        vertical-align: top;\n",
       "    }\n",
       "\n",
       "    .dataframe thead th {\n",
       "        text-align: right;\n",
       "    }\n",
       "</style>\n",
       "<table border=\"1\" class=\"dataframe\">\n",
       "  <thead>\n",
       "    <tr style=\"text-align: right;\">\n",
       "      <th></th>\n",
       "      <th>objectid</th>\n",
       "      <th>shape_leng</th>\n",
       "      <th>shape_area</th>\n",
       "      <th>zone</th>\n",
       "      <th>locationid</th>\n",
       "      <th>borough</th>\n",
       "      <th>geometry</th>\n",
       "    </tr>\n",
       "  </thead>\n",
       "  <tbody>\n",
       "    <tr>\n",
       "      <th>0</th>\n",
       "      <td>1</td>\n",
       "      <td>0.116357</td>\n",
       "      <td>0.000782</td>\n",
       "      <td>Newark Airport</td>\n",
       "      <td>1</td>\n",
       "      <td>EWR</td>\n",
       "      <td>POLYGON ((-74.18445 40.69500, -74.18449 40.695...</td>\n",
       "    </tr>\n",
       "    <tr>\n",
       "      <th>1</th>\n",
       "      <td>2</td>\n",
       "      <td>0.433470</td>\n",
       "      <td>0.004866</td>\n",
       "      <td>Jamaica Bay</td>\n",
       "      <td>2</td>\n",
       "      <td>Queens</td>\n",
       "      <td>MULTIPOLYGON (((-73.82338 40.63899, -73.82277 ...</td>\n",
       "    </tr>\n",
       "    <tr>\n",
       "      <th>2</th>\n",
       "      <td>3</td>\n",
       "      <td>0.084341</td>\n",
       "      <td>0.000314</td>\n",
       "      <td>Allerton/Pelham Gardens</td>\n",
       "      <td>3</td>\n",
       "      <td>Bronx</td>\n",
       "      <td>POLYGON ((-73.84793 40.87134, -73.84725 40.870...</td>\n",
       "    </tr>\n",
       "    <tr>\n",
       "      <th>3</th>\n",
       "      <td>4</td>\n",
       "      <td>0.043567</td>\n",
       "      <td>0.000112</td>\n",
       "      <td>Alphabet City</td>\n",
       "      <td>4</td>\n",
       "      <td>Manhattan</td>\n",
       "      <td>POLYGON ((-73.97177 40.72582, -73.97179 40.725...</td>\n",
       "    </tr>\n",
       "    <tr>\n",
       "      <th>4</th>\n",
       "      <td>5</td>\n",
       "      <td>0.092146</td>\n",
       "      <td>0.000498</td>\n",
       "      <td>Arden Heights</td>\n",
       "      <td>5</td>\n",
       "      <td>Staten Island</td>\n",
       "      <td>POLYGON ((-74.17422 40.56257, -74.17349 40.562...</td>\n",
       "    </tr>\n",
       "  </tbody>\n",
       "</table>\n",
       "</div>"
      ],
      "text/plain": [
       "   objectid  shape_leng  shape_area                     zone  locationid  \\\n",
       "0         1    0.116357    0.000782           Newark Airport           1   \n",
       "1         2    0.433470    0.004866              Jamaica Bay           2   \n",
       "2         3    0.084341    0.000314  Allerton/Pelham Gardens           3   \n",
       "3         4    0.043567    0.000112            Alphabet City           4   \n",
       "4         5    0.092146    0.000498            Arden Heights           5   \n",
       "\n",
       "         borough                                           geometry  \n",
       "0            EWR  POLYGON ((-74.18445 40.69500, -74.18449 40.695...  \n",
       "1         Queens  MULTIPOLYGON (((-73.82338 40.63899, -73.82277 ...  \n",
       "2          Bronx  POLYGON ((-73.84793 40.87134, -73.84725 40.870...  \n",
       "3      Manhattan  POLYGON ((-73.97177 40.72582, -73.97179 40.725...  \n",
       "4  Staten Island  POLYGON ((-74.17422 40.56257, -74.17349 40.562...  "
      ]
     },
     "execution_count": 25,
     "metadata": {},
     "output_type": "execute_result"
    }
   ],
   "source": [
    "# Convert the geometry shape to to latitude and longitude\n",
    "# Taken from tute2 for MAST300034 Semester 2 2023\n",
    "sf['geometry'] = sf['geometry'].to_crs(crs=\"+proj=longlat +ellps=WGS84 +datum=WGS84 +no_defs\") #crs=\"+proj=longlat +ellps=WGS84 +datum=WGS84 +no_defs\"\n",
    "\n",
    "\n",
    "sf.columns= sf.columns.str.lower()\n",
    "\n",
    "sf.head()\n"
   ]
  },
  {
   "cell_type": "code",
   "execution_count": 26,
   "metadata": {},
   "outputs": [
    {
     "data": {
      "text/plain": [
       "locationid       int64\n",
       "borough         object\n",
       "zone            object\n",
       "service_zone    object\n",
       "dtype: object"
      ]
     },
     "execution_count": 26,
     "metadata": {},
     "output_type": "execute_result"
    }
   ],
   "source": [
    "# ensure correct data types\n",
    "zones['locationid'] = zones['locationid'].astype(int)\n",
    "\n",
    "zones['borough'] = zones['borough'].astype(str)\n",
    "\n",
    "zones['zone'] = zones['zone'].astype(str)\n",
    "\n",
    "zones['service_zone'] = zones['service_zone'].astype(str)\n",
    "\n",
    "zones.dtypes\n"
   ]
  },
  {
   "cell_type": "code",
   "execution_count": 27,
   "metadata": {},
   "outputs": [],
   "source": [
    "# create and clean up geometry dataframe with locationid and geometry combined\n",
    "gdf = gpd.GeoDataFrame(\n",
    "    pd.merge(zones, sf, on='locationid', how='inner')\n",
    ")\n",
    "\n",
    "gdf = gdf.rename(columns={'borough_x': 'borough', 'zone_x':'zone'}).drop(['objectid', 'shape_leng', 'shape_area', 'zone_y', 'borough_y'], axis=1)\n",
    "\n",
    "geoJSON = gdf[['locationid', 'geometry']].drop_duplicates('locationid').to_json()\n",
    "\n",
    "\n"
   ]
  },
  {
   "cell_type": "code",
   "execution_count": 28,
   "metadata": {},
   "outputs": [
    {
     "data": {
      "text/html": [
       "<div>\n",
       "<style scoped>\n",
       "    .dataframe tbody tr th:only-of-type {\n",
       "        vertical-align: middle;\n",
       "    }\n",
       "\n",
       "    .dataframe tbody tr th {\n",
       "        vertical-align: top;\n",
       "    }\n",
       "\n",
       "    .dataframe thead th {\n",
       "        text-align: right;\n",
       "    }\n",
       "</style>\n",
       "<table border=\"1\" class=\"dataframe\">\n",
       "  <thead>\n",
       "    <tr style=\"text-align: right;\">\n",
       "      <th></th>\n",
       "      <th>locationid</th>\n",
       "      <th>borough</th>\n",
       "      <th>zone</th>\n",
       "      <th>service_zone</th>\n",
       "      <th>geometry</th>\n",
       "    </tr>\n",
       "  </thead>\n",
       "  <tbody>\n",
       "    <tr>\n",
       "      <th>0</th>\n",
       "      <td>1</td>\n",
       "      <td>EWR</td>\n",
       "      <td>Newark Airport</td>\n",
       "      <td>EWR</td>\n",
       "      <td>POLYGON ((-74.18445 40.69500, -74.18449 40.695...</td>\n",
       "    </tr>\n",
       "    <tr>\n",
       "      <th>1</th>\n",
       "      <td>2</td>\n",
       "      <td>Queens</td>\n",
       "      <td>Jamaica Bay</td>\n",
       "      <td>Boro Zone</td>\n",
       "      <td>MULTIPOLYGON (((-73.82338 40.63899, -73.82277 ...</td>\n",
       "    </tr>\n",
       "    <tr>\n",
       "      <th>2</th>\n",
       "      <td>3</td>\n",
       "      <td>Bronx</td>\n",
       "      <td>Allerton/Pelham Gardens</td>\n",
       "      <td>Boro Zone</td>\n",
       "      <td>POLYGON ((-73.84793 40.87134, -73.84725 40.870...</td>\n",
       "    </tr>\n",
       "    <tr>\n",
       "      <th>3</th>\n",
       "      <td>4</td>\n",
       "      <td>Manhattan</td>\n",
       "      <td>Alphabet City</td>\n",
       "      <td>Yellow Zone</td>\n",
       "      <td>POLYGON ((-73.97177 40.72582, -73.97179 40.725...</td>\n",
       "    </tr>\n",
       "    <tr>\n",
       "      <th>4</th>\n",
       "      <td>5</td>\n",
       "      <td>Staten Island</td>\n",
       "      <td>Arden Heights</td>\n",
       "      <td>Boro Zone</td>\n",
       "      <td>POLYGON ((-74.17422 40.56257, -74.17349 40.562...</td>\n",
       "    </tr>\n",
       "  </tbody>\n",
       "</table>\n",
       "</div>"
      ],
      "text/plain": [
       "   locationid        borough                     zone service_zone  \\\n",
       "0           1            EWR           Newark Airport          EWR   \n",
       "1           2         Queens              Jamaica Bay    Boro Zone   \n",
       "2           3          Bronx  Allerton/Pelham Gardens    Boro Zone   \n",
       "3           4      Manhattan            Alphabet City  Yellow Zone   \n",
       "4           5  Staten Island            Arden Heights    Boro Zone   \n",
       "\n",
       "                                            geometry  \n",
       "0  POLYGON ((-74.18445 40.69500, -74.18449 40.695...  \n",
       "1  MULTIPOLYGON (((-73.82338 40.63899, -73.82277 ...  \n",
       "2  POLYGON ((-73.84793 40.87134, -73.84725 40.870...  \n",
       "3  POLYGON ((-73.97177 40.72582, -73.97179 40.725...  \n",
       "4  POLYGON ((-74.17422 40.56257, -74.17349 40.562...  "
      ]
     },
     "execution_count": 28,
     "metadata": {},
     "output_type": "execute_result"
    }
   ],
   "source": [
    "gdf.head()"
   ]
  },
  {
   "cell_type": "code",
   "execution_count": 29,
   "metadata": {},
   "outputs": [
    {
     "name": "stderr",
     "output_type": "stream",
     "text": [
      "/tmp/ipykernel_1441/1550461818.py:15: UserWarning: Column names longer than 10 characters will be truncated when saved to ESRI Shapefile.\n",
      "  gdf.to_file(\"../data/curated/tlc/taxi_zones/gdf.shp\")\n"
     ]
    }
   ],
   "source": [
    "import os\n",
    "from pyspark.sql import functions as F\n",
    "\n",
    "if not os.path.exists('../data/curated/'):\n",
    "    os.makedirs('../data/curated/')\n",
    "    \n",
    "if not os.path.exists('../data/curated/tlc'):\n",
    "    os.makedirs('../data/curated/tlc')\n",
    "    \n",
    "if not os.path.exists('../data/curated/tlc/taxi_zones'):\n",
    "    os.makedirs('../data/curated/tlc/taxi_zones')\n",
    "    \n",
    "# save shapefile for merged geometry dataframe\n",
    "\n",
    "gdf.to_file(\"../data/curated/tlc/taxi_zones/gdf.shp\")"
   ]
  },
  {
   "cell_type": "markdown",
   "metadata": {},
   "source": [
    "## External Datasets"
   ]
  },
  {
   "cell_type": "markdown",
   "metadata": {},
   "source": [
    "### Subway Stations"
   ]
  },
  {
   "cell_type": "code",
   "execution_count": 16,
   "metadata": {},
   "outputs": [],
   "source": [
    "# make directories for curated layer\n",
    "\n",
    "import os\n",
    "from pyspark.sql import functions as F\n",
    "\n",
    "if not os.path.exists('../data/curated/'):\n",
    "    os.makedirs('../data/curated/')\n",
    "    \n",
    "if not os.path.exists('../data/curated/subway_stations'):\n",
    "    os.makedirs('../data/curated/subway_stations')\n",
    "\n"
   ]
  },
  {
   "cell_type": "code",
   "execution_count": 12,
   "metadata": {},
   "outputs": [
    {
     "name": "stdout",
     "output_type": "stream",
     "text": [
      "Number of rows before preprocessing: 472\n"
     ]
    }
   ],
   "source": [
    "from pyspark.sql import functions as F\n",
    "from pyspark.sql.types import StringType, IntegerType, DoubleType\n",
    "\n",
    "def extract_long(loc):\n",
    "    \"\"\"\n",
    "    Extracts longitude from location feature for subway data\n",
    "\n",
    "    \"\"\"    \n",
    "    return float(loc.split(',')[1][:-1])\n",
    "\n",
    "def extract_lat(loc):\n",
    "    \"\"\"\n",
    "    Extracts latitude from location feature for subway data\n",
    "    \"\"\"    \n",
    "    return float(loc.split(',')[0][1:])\n",
    "\n",
    "\n",
    "extract_long_UDF = F.udf(lambda z: extract_long(z), DoubleType())\n",
    "\n",
    "extract_lat_UDF = F.udf(lambda z: extract_lat(z), DoubleType())\n",
    "\n",
    "subway_entr_exit = spark.read.parquet('../data/raw/subway_entr_exit/subway_entr_exit.parquet')\n",
    "\n",
    "print(f\"Number of rows before preprocessing: {subway_entr_exit.count()}\")\n",
    "\n",
    "# Create separate longitude and latitude features\n",
    "subway_entr_exit = subway_entr_exit.withColumn(\n",
    "    'longitude',\n",
    "    extract_long_UDF(F.col('station_location'))\n",
    "    ).withColumn(\n",
    "    'latitude',\n",
    "    extract_lat_UDF(F.col('station_location'))\n",
    "    ).drop('station_location').toPandas()\n",
    "    \n",
    "# Convert to geopandas dataframe\n",
    "subway_entr_exit = gpd.GeoDataFrame( \n",
    "    subway_entr_exit, geometry=gpd.points_from_xy(subway_entr_exit.longitude, subway_entr_exit.latitude, crs=\"+proj=longlat +ellps=WGS84 +datum=WGS84 +no_defs\"), \n",
    ")\n",
    "\n",
    "subway_entr_exit = subway_entr_exit.drop(['latitude', 'longitude'], axis=1)\n",
    "\n"
   ]
  },
  {
   "cell_type": "code",
   "execution_count": 27,
   "metadata": {},
   "outputs": [],
   "source": [
    "# Spatial join subway locations with locationid from geometry dataframe shapefile\n",
    "subway_entr_exit = gpd.sjoin(subway_entr_exit, sf, how='inner')\n",
    "\n",
    "subway_entr_exit = subway_entr_exit[['locationid']]\n",
    "\n",
    "subway_entr_exit =spark.createDataFrame(subway_entr_exit) "
   ]
  },
  {
   "cell_type": "code",
   "execution_count": 32,
   "metadata": {},
   "outputs": [
    {
     "data": {
      "text/plain": [
       "[Row(locationid=246),\n",
       " Row(locationid=90),\n",
       " Row(locationid=90),\n",
       " Row(locationid=90),\n",
       " Row(locationid=90),\n",
       " Row(locationid=90),\n",
       " Row(locationid=68),\n",
       " Row(locationid=249),\n",
       " Row(locationid=249),\n",
       " Row(locationid=249),\n",
       " Row(locationid=125),\n",
       " Row(locationid=125),\n",
       " Row(locationid=211),\n",
       " Row(locationid=211),\n",
       " Row(locationid=231),\n",
       " Row(locationid=231),\n",
       " Row(locationid=231),\n",
       " Row(locationid=231),\n",
       " Row(locationid=231),\n",
       " Row(locationid=231)]"
      ]
     },
     "execution_count": 32,
     "metadata": {},
     "output_type": "execute_result"
    }
   ],
   "source": [
    "subway_entr_exit.head(20)\n"
   ]
  },
  {
   "cell_type": "code",
   "execution_count": 33,
   "metadata": {},
   "outputs": [],
   "source": [
    "# group by number of stations in each taxi zone\n",
    "subway_entr_exit = subway_entr_exit.groupBy(['locationid']) \\\n",
    "            .agg(\n",
    "                F.count('locationid').alias('number_of_subway_stations_here')\n",
    "            )\n",
    "            \n"
   ]
  },
  {
   "cell_type": "code",
   "execution_count": 125,
   "metadata": {},
   "outputs": [
    {
     "data": {
      "text/plain": [
       "472"
      ]
     },
     "execution_count": 125,
     "metadata": {},
     "output_type": "execute_result"
    }
   ],
   "source": [
    "# check that the total number of stations still adds up to 472\n",
    "\n",
    "def sum_col(df, col):\n",
    "    \"\"\"_summary_\n",
    "\n",
    "    Args:\n",
    "        df (_type_): _description_\n",
    "        col (_type_): _description_\n",
    "\n",
    "    Returns:\n",
    "        _type_: _description_\n",
    "    \"\"\"    \n",
    "    return df.select(F.sum(col)).collect()[0][0]\n",
    "\n",
    "# check that total number of subway stations remained same\n",
    "sum_col(subway_entr_exit, 'number_of_subway_stations_here')\n",
    "            \n",
    "        "
   ]
  },
  {
   "cell_type": "code",
   "execution_count": null,
   "metadata": {},
   "outputs": [],
   "source": [
    "print(f\"Number of rows after preprocessing: {subway_entr_exit.count()}\")"
   ]
  },
  {
   "cell_type": "code",
   "execution_count": 34,
   "metadata": {},
   "outputs": [
    {
     "name": "stdout",
     "output_type": "stream",
     "text": [
      "Shape after preprocessing: 153\n"
     ]
    },
    {
     "name": "stderr",
     "output_type": "stream",
     "text": [
      "----------------------------------------\n",
      "Exception occurred during processing of request from ('127.0.0.1', 53780)\n",
      "Traceback (most recent call last):\n",
      "  File \"/usr/lib/python3.10/socketserver.py\", line 316, in _handle_request_noblock\n",
      "    self.process_request(request, client_address)\n",
      "  File \"/usr/lib/python3.10/socketserver.py\", line 347, in process_request\n",
      "    self.finish_request(request, client_address)\n",
      "  File \"/usr/lib/python3.10/socketserver.py\", line 360, in finish_request\n",
      "    self.RequestHandlerClass(request, client_address, self)\n",
      "  File \"/usr/lib/python3.10/socketserver.py\", line 747, in __init__\n",
      "    self.handle()\n",
      "  File \"/home/jlafontaine/.local/lib/python3.10/site-packages/pyspark/accumulators.py\", line 281, in handle\n",
      "    poll(accum_updates)\n",
      "  File \"/home/jlafontaine/.local/lib/python3.10/site-packages/pyspark/accumulators.py\", line 253, in poll\n",
      "    if func():\n",
      "  File \"/home/jlafontaine/.local/lib/python3.10/site-packages/pyspark/accumulators.py\", line 257, in accum_updates\n",
      "    num_updates = read_int(self.rfile)\n",
      "  File \"/home/jlafontaine/.local/lib/python3.10/site-packages/pyspark/serializers.py\", line 596, in read_int\n",
      "    raise EOFError\n",
      "EOFError\n",
      "----------------------------------------\n",
      "ERROR:root:Exception while sending command.\n",
      "Traceback (most recent call last):\n",
      "  File \"/home/jlafontaine/.local/lib/python3.10/site-packages/py4j/clientserver.py\", line 516, in send_command\n",
      "    raise Py4JNetworkError(\"Answer from Java side is empty\")\n",
      "py4j.protocol.Py4JNetworkError: Answer from Java side is empty\n",
      "\n",
      "During handling of the above exception, another exception occurred:\n",
      "\n",
      "Traceback (most recent call last):\n",
      "  File \"/home/jlafontaine/.local/lib/python3.10/site-packages/py4j/java_gateway.py\", line 1038, in send_command\n",
      "    response = connection.send_command(command)\n",
      "  File \"/home/jlafontaine/.local/lib/python3.10/site-packages/py4j/clientserver.py\", line 539, in send_command\n",
      "    raise Py4JNetworkError(\n",
      "py4j.protocol.Py4JNetworkError: Error while sending or receiving\n"
     ]
    },
    {
     "ename": "Py4JError",
     "evalue": "An error occurred while calling o7153.parquet",
     "output_type": "error",
     "traceback": [
      "\u001b[0;31m---------------------------------------------------------------------------\u001b[0m",
      "\u001b[0;31mPy4JError\u001b[0m                                 Traceback (most recent call last)",
      "Cell \u001b[0;32mIn[34], line 7\u001b[0m\n\u001b[1;32m      1\u001b[0m \u001b[39mprint\u001b[39m(\u001b[39mf\u001b[39m\u001b[39m\"\u001b[39m\u001b[39mShape after preprocessing: \u001b[39m\u001b[39m{\u001b[39;00msubway_entr_exit\u001b[39m.\u001b[39mcount()\u001b[39m}\u001b[39;00m\u001b[39m\"\u001b[39m)\n\u001b[1;32m      3\u001b[0m subway_entr_exit \\\n\u001b[1;32m      4\u001b[0m         \u001b[39m.\u001b[39;49mcoalesce(\u001b[39m1\u001b[39;49m) \\\n\u001b[1;32m      5\u001b[0m         \u001b[39m.\u001b[39;49mwrite \\\n\u001b[1;32m      6\u001b[0m         \u001b[39m.\u001b[39;49mmode(\u001b[39m'\u001b[39;49m\u001b[39moverwrite\u001b[39;49m\u001b[39m'\u001b[39;49m) \\\n\u001b[0;32m----> 7\u001b[0m         \u001b[39m.\u001b[39;49mparquet(\u001b[39mf\u001b[39;49m\u001b[39m\"\u001b[39;49m\u001b[39m../data/curated/subway_stations/subway_stations.parquet\u001b[39;49m\u001b[39m\"\u001b[39;49m)\n",
      "File \u001b[0;32m~/.local/lib/python3.10/site-packages/pyspark/sql/readwriter.py:1656\u001b[0m, in \u001b[0;36mDataFrameWriter.parquet\u001b[0;34m(self, path, mode, partitionBy, compression)\u001b[0m\n\u001b[1;32m   1654\u001b[0m     \u001b[39mself\u001b[39m\u001b[39m.\u001b[39mpartitionBy(partitionBy)\n\u001b[1;32m   1655\u001b[0m \u001b[39mself\u001b[39m\u001b[39m.\u001b[39m_set_opts(compression\u001b[39m=\u001b[39mcompression)\n\u001b[0;32m-> 1656\u001b[0m \u001b[39mself\u001b[39;49m\u001b[39m.\u001b[39;49m_jwrite\u001b[39m.\u001b[39;49mparquet(path)\n",
      "File \u001b[0;32m~/.local/lib/python3.10/site-packages/py4j/java_gateway.py:1322\u001b[0m, in \u001b[0;36mJavaMember.__call__\u001b[0;34m(self, *args)\u001b[0m\n\u001b[1;32m   1316\u001b[0m command \u001b[39m=\u001b[39m proto\u001b[39m.\u001b[39mCALL_COMMAND_NAME \u001b[39m+\u001b[39m\\\n\u001b[1;32m   1317\u001b[0m     \u001b[39mself\u001b[39m\u001b[39m.\u001b[39mcommand_header \u001b[39m+\u001b[39m\\\n\u001b[1;32m   1318\u001b[0m     args_command \u001b[39m+\u001b[39m\\\n\u001b[1;32m   1319\u001b[0m     proto\u001b[39m.\u001b[39mEND_COMMAND_PART\n\u001b[1;32m   1321\u001b[0m answer \u001b[39m=\u001b[39m \u001b[39mself\u001b[39m\u001b[39m.\u001b[39mgateway_client\u001b[39m.\u001b[39msend_command(command)\n\u001b[0;32m-> 1322\u001b[0m return_value \u001b[39m=\u001b[39m get_return_value(\n\u001b[1;32m   1323\u001b[0m     answer, \u001b[39mself\u001b[39;49m\u001b[39m.\u001b[39;49mgateway_client, \u001b[39mself\u001b[39;49m\u001b[39m.\u001b[39;49mtarget_id, \u001b[39mself\u001b[39;49m\u001b[39m.\u001b[39;49mname)\n\u001b[1;32m   1325\u001b[0m \u001b[39mfor\u001b[39;00m temp_arg \u001b[39min\u001b[39;00m temp_args:\n\u001b[1;32m   1326\u001b[0m     \u001b[39mif\u001b[39;00m \u001b[39mhasattr\u001b[39m(temp_arg, \u001b[39m\"\u001b[39m\u001b[39m_detach\u001b[39m\u001b[39m\"\u001b[39m):\n",
      "File \u001b[0;32m~/.local/lib/python3.10/site-packages/pyspark/errors/exceptions/captured.py:169\u001b[0m, in \u001b[0;36mcapture_sql_exception.<locals>.deco\u001b[0;34m(*a, **kw)\u001b[0m\n\u001b[1;32m    167\u001b[0m \u001b[39mdef\u001b[39;00m \u001b[39mdeco\u001b[39m(\u001b[39m*\u001b[39ma: Any, \u001b[39m*\u001b[39m\u001b[39m*\u001b[39mkw: Any) \u001b[39m-\u001b[39m\u001b[39m>\u001b[39m Any:\n\u001b[1;32m    168\u001b[0m     \u001b[39mtry\u001b[39;00m:\n\u001b[0;32m--> 169\u001b[0m         \u001b[39mreturn\u001b[39;00m f(\u001b[39m*\u001b[39;49ma, \u001b[39m*\u001b[39;49m\u001b[39m*\u001b[39;49mkw)\n\u001b[1;32m    170\u001b[0m     \u001b[39mexcept\u001b[39;00m Py4JJavaError \u001b[39mas\u001b[39;00m e:\n\u001b[1;32m    171\u001b[0m         converted \u001b[39m=\u001b[39m convert_exception(e\u001b[39m.\u001b[39mjava_exception)\n",
      "File \u001b[0;32m~/.local/lib/python3.10/site-packages/py4j/protocol.py:334\u001b[0m, in \u001b[0;36mget_return_value\u001b[0;34m(answer, gateway_client, target_id, name)\u001b[0m\n\u001b[1;32m    330\u001b[0m             \u001b[39mraise\u001b[39;00m Py4JError(\n\u001b[1;32m    331\u001b[0m                 \u001b[39m\"\u001b[39m\u001b[39mAn error occurred while calling \u001b[39m\u001b[39m{0}\u001b[39;00m\u001b[39m{1}\u001b[39;00m\u001b[39m{2}\u001b[39;00m\u001b[39m. Trace:\u001b[39m\u001b[39m\\n\u001b[39;00m\u001b[39m{3}\u001b[39;00m\u001b[39m\\n\u001b[39;00m\u001b[39m\"\u001b[39m\u001b[39m.\u001b[39m\n\u001b[1;32m    332\u001b[0m                 \u001b[39mformat\u001b[39m(target_id, \u001b[39m\"\u001b[39m\u001b[39m.\u001b[39m\u001b[39m\"\u001b[39m, name, value))\n\u001b[1;32m    333\u001b[0m     \u001b[39melse\u001b[39;00m:\n\u001b[0;32m--> 334\u001b[0m         \u001b[39mraise\u001b[39;00m Py4JError(\n\u001b[1;32m    335\u001b[0m             \u001b[39m\"\u001b[39m\u001b[39mAn error occurred while calling \u001b[39m\u001b[39m{0}\u001b[39;00m\u001b[39m{1}\u001b[39;00m\u001b[39m{2}\u001b[39;00m\u001b[39m\"\u001b[39m\u001b[39m.\u001b[39m\n\u001b[1;32m    336\u001b[0m             \u001b[39mformat\u001b[39m(target_id, \u001b[39m\"\u001b[39m\u001b[39m.\u001b[39m\u001b[39m\"\u001b[39m, name))\n\u001b[1;32m    337\u001b[0m \u001b[39melse\u001b[39;00m:\n\u001b[1;32m    338\u001b[0m     \u001b[39mtype\u001b[39m \u001b[39m=\u001b[39m answer[\u001b[39m1\u001b[39m]\n",
      "\u001b[0;31mPy4JError\u001b[0m: An error occurred while calling o7153.parquet"
     ]
    },
    {
     "name": "stderr",
     "output_type": "stream",
     "text": [
      "ERROR:root:Exception while sending command.\n",
      "Traceback (most recent call last):\n",
      "  File \"/home/jlafontaine/.local/lib/python3.10/site-packages/py4j/clientserver.py\", line 516, in send_command\n",
      "    raise Py4JNetworkError(\"Answer from Java side is empty\")\n",
      "py4j.protocol.Py4JNetworkError: Answer from Java side is empty\n",
      "\n",
      "During handling of the above exception, another exception occurred:\n",
      "\n",
      "Traceback (most recent call last):\n",
      "  File \"/home/jlafontaine/.local/lib/python3.10/site-packages/py4j/java_gateway.py\", line 1038, in send_command\n",
      "    response = connection.send_command(command)\n",
      "  File \"/home/jlafontaine/.local/lib/python3.10/site-packages/py4j/clientserver.py\", line 539, in send_command\n",
      "    raise Py4JNetworkError(\n",
      "py4j.protocol.Py4JNetworkError: Error while sending or receiving\n"
     ]
    }
   ],
   "source": [
    "\n",
    "\n",
    "subway_entr_exit \\\n",
    "        .coalesce(1) \\\n",
    "        .write \\\n",
    "        .mode('overwrite') \\\n",
    "        .parquet(f\"../data/curated/subway_stations/subway_stations.parquet\")"
   ]
  },
  {
   "cell_type": "markdown",
   "metadata": {},
   "source": [
    "### Hotel Properties"
   ]
  },
  {
   "cell_type": "code",
   "execution_count": 9,
   "metadata": {},
   "outputs": [],
   "source": [
    "# make directories for curated layer\n",
    "\n",
    "import os\n",
    "from pyspark.sql import functions as F\n",
    "\n",
    "if not os.path.exists('../data/curated/'):\n",
    "    os.makedirs('../data/curated/')\n",
    "    \n",
    "if not os.path.exists('../data/curated/hotels'):\n",
    "    os.makedirs('../data/curated/hotels')\n"
   ]
  },
  {
   "cell_type": "code",
   "execution_count": 12,
   "metadata": {},
   "outputs": [
    {
     "name": "stdout",
     "output_type": "stream",
     "text": [
      "Number of rows before preprocessing: 5519\n"
     ]
    }
   ],
   "source": [
    "from pyspark.sql import functions as F\n",
    "from pyspark.sql.types import StringType, IntegerType\n",
    "\n",
    "hotels = spark.read.parquet('../data/raw/hotels/hotels.parquet')\n",
    "\n",
    "print(f\"Number of rows before preprocessing: {hotels.count()}\")\n",
    "\n",
    "hotels = hotels.where(\n",
    "    (F.col('taxyear') == 2022) # only include hotels counted under the 2022 financial year\n",
    ").drop('taxyear').toPandas()\n",
    "\n",
    "# convert to geopandas dataframe\n",
    "hotels = gpd.GeoDataFrame( \n",
    "    hotels, geometry=gpd.points_from_xy(hotels.longitude, hotels.latitude, crs=\"+proj=longlat +ellps=WGS84 +datum=WGS84 +no_defs\"),\n",
    ")\n",
    "\n",
    "hotels = hotels.drop(['latitude', 'longitude'], axis=1)\n",
    "\n",
    "\n"
   ]
  },
  {
   "cell_type": "code",
   "execution_count": 12,
   "metadata": {},
   "outputs": [
    {
     "data": {
      "text/html": [
       "<div>\n",
       "<style scoped>\n",
       "    .dataframe tbody tr th:only-of-type {\n",
       "        vertical-align: middle;\n",
       "    }\n",
       "\n",
       "    .dataframe tbody tr th {\n",
       "        vertical-align: top;\n",
       "    }\n",
       "\n",
       "    .dataframe thead th {\n",
       "        text-align: right;\n",
       "    }\n",
       "</style>\n",
       "<table border=\"1\" class=\"dataframe\">\n",
       "  <thead>\n",
       "    <tr style=\"text-align: right;\">\n",
       "      <th></th>\n",
       "      <th>borough</th>\n",
       "      <th>geometry</th>\n",
       "    </tr>\n",
       "  </thead>\n",
       "  <tbody>\n",
       "    <tr>\n",
       "      <th>0</th>\n",
       "      <td>1</td>\n",
       "      <td>POINT (-74.01242 40.70323)</td>\n",
       "    </tr>\n",
       "    <tr>\n",
       "      <th>1</th>\n",
       "      <td>1</td>\n",
       "      <td>POINT (-74.01220 40.70274)</td>\n",
       "    </tr>\n",
       "    <tr>\n",
       "      <th>2</th>\n",
       "      <td>1</td>\n",
       "      <td>POINT (-74.01264 40.70403)</td>\n",
       "    </tr>\n",
       "    <tr>\n",
       "      <th>3</th>\n",
       "      <td>1</td>\n",
       "      <td>POINT (-74.01232 40.70404)</td>\n",
       "    </tr>\n",
       "    <tr>\n",
       "      <th>4</th>\n",
       "      <td>1</td>\n",
       "      <td>POINT (-74.01615 40.71481)</td>\n",
       "    </tr>\n",
       "  </tbody>\n",
       "</table>\n",
       "</div>"
      ],
      "text/plain": [
       "  borough                    geometry\n",
       "0       1  POINT (-74.01242 40.70323)\n",
       "1       1  POINT (-74.01220 40.70274)\n",
       "2       1  POINT (-74.01264 40.70403)\n",
       "3       1  POINT (-74.01232 40.70404)\n",
       "4       1  POINT (-74.01615 40.71481)"
      ]
     },
     "execution_count": 12,
     "metadata": {},
     "output_type": "execute_result"
    }
   ],
   "source": [
    "hotels.head()"
   ]
  },
  {
   "cell_type": "code",
   "execution_count": 13,
   "metadata": {},
   "outputs": [],
   "source": [
    "# spatial join hotels with shapefile\n",
    "hotels = gpd.sjoin(hotels, sf, how='inner')\n",
    "\n",
    "hotels = hotels[['locationid']]\n",
    "\n",
    "hotels =spark.createDataFrame(hotels) \n",
    "\n",
    "hotels.head(20)"
   ]
  },
  {
   "cell_type": "code",
   "execution_count": 15,
   "metadata": {},
   "outputs": [],
   "source": [
    "# count number of hotels per taxi zone\n",
    "\n",
    "hotels = hotels.groupBy(['locationid']) \\\n",
    "            .agg(\n",
    "                F.count('locationid').alias('number_of_hotels_here')\n",
    "            )\n",
    "            \n"
   ]
  },
  {
   "cell_type": "code",
   "execution_count": 19,
   "metadata": {},
   "outputs": [
    {
     "name": "stdout",
     "output_type": "stream",
     "text": [
      "+----------+---------------------+\n",
      "|locationid|number_of_hotels_here|\n",
      "+----------+---------------------+\n",
      "|       144|                   15|\n",
      "|       232|                    1|\n",
      "|        87|                   23|\n",
      "|       209|                    9|\n",
      "|        79|                   15|\n",
      "|        88|                    5|\n",
      "|        13|                    3|\n",
      "|       125|                  396|\n",
      "|       231|                   12|\n",
      "|       261|                    8|\n",
      "|        45|                    8|\n",
      "|       148|                   30|\n",
      "|       211|                    4|\n",
      "|       113|                   18|\n",
      "|        68|                   32|\n",
      "|       158|                    9|\n",
      "|       246|                    4|\n",
      "|       114|                    7|\n",
      "|        48|                   42|\n",
      "|       247|                    2|\n",
      "+----------+---------------------+\n",
      "only showing top 20 rows\n",
      "\n"
     ]
    }
   ],
   "source": [
    "hotels.show(20)"
   ]
  },
  {
   "cell_type": "code",
   "execution_count": 16,
   "metadata": {},
   "outputs": [
    {
     "name": "stdout",
     "output_type": "stream",
     "text": [
      "Number of rows after preprocessing: 171\n"
     ]
    }
   ],
   "source": [
    "print(f\"Number of rows after preprocessing: {hotels.count()}\")"
   ]
  },
  {
   "cell_type": "code",
   "execution_count": 51,
   "metadata": {},
   "outputs": [],
   "source": [
    "\n",
    "\n",
    "hotels \\\n",
    "        .coalesce(1) \\\n",
    "        .write \\\n",
    "        .mode('overwrite') \\\n",
    "        .parquet(f\"../data/curated/hotels/hotels.parquet\")"
   ]
  },
  {
   "cell_type": "markdown",
   "metadata": {},
   "source": [
    "### Airbnb"
   ]
  },
  {
   "cell_type": "code",
   "execution_count": 52,
   "metadata": {},
   "outputs": [],
   "source": [
    "# make directories for curated layer\n",
    "\n",
    "import os\n",
    "from pyspark.sql import functions as F\n",
    "\n",
    "if not os.path.exists('../data/curated/'):\n",
    "    os.makedirs('../data/curated/')\n",
    "    \n",
    "if not os.path.exists('../data/curated/airbnb'):\n",
    "    os.makedirs('../data/curated/airbnb')\n"
   ]
  },
  {
   "cell_type": "code",
   "execution_count": 13,
   "metadata": {},
   "outputs": [
    {
     "name": "stdout",
     "output_type": "stream",
     "text": [
      "Number of rows before preprocessing: 41533\n"
     ]
    }
   ],
   "source": [
    "from pyspark.sql import functions as F\n",
    "from pyspark.sql.types import StringType, IntegerType\n",
    "\n",
    "airbnb = spark.read.parquet('../data/raw/airbnb/airbnb.parquet')\n",
    "\n",
    "print(f\"Number of rows before preprocessing: {airbnb.count()}\")\n",
    "\n",
    "airbnb = airbnb.toPandas()\n",
    "\n",
    "airbnb = gpd.GeoDataFrame(\n",
    "    airbnb, geometry=gpd.points_from_xy(airbnb.longitude, airbnb.latitude, crs=\"+proj=longlat +ellps=WGS84 +datum=WGS84 +no_defs\"), \n",
    ")\n",
    "\n",
    "airbnb = airbnb.drop(['latitude', 'longitude'], axis=1)\n",
    "\n",
    "\n"
   ]
  },
  {
   "cell_type": "code",
   "execution_count": 24,
   "metadata": {},
   "outputs": [
    {
     "data": {
      "text/html": [
       "<div>\n",
       "<style scoped>\n",
       "    .dataframe tbody tr th:only-of-type {\n",
       "        vertical-align: middle;\n",
       "    }\n",
       "\n",
       "    .dataframe tbody tr th {\n",
       "        vertical-align: top;\n",
       "    }\n",
       "\n",
       "    .dataframe thead th {\n",
       "        text-align: right;\n",
       "    }\n",
       "</style>\n",
       "<table border=\"1\" class=\"dataframe\">\n",
       "  <thead>\n",
       "    <tr style=\"text-align: right;\">\n",
       "      <th></th>\n",
       "      <th>neighbourhood_group</th>\n",
       "      <th>room_type</th>\n",
       "      <th>daily_price_usd</th>\n",
       "      <th>minimum_nights</th>\n",
       "      <th>reviews_per_month</th>\n",
       "      <th>geometry</th>\n",
       "    </tr>\n",
       "  </thead>\n",
       "  <tbody>\n",
       "    <tr>\n",
       "      <th>0</th>\n",
       "      <td>Brooklyn</td>\n",
       "      <td>Entire home/apt</td>\n",
       "      <td>275</td>\n",
       "      <td>21</td>\n",
       "      <td>0.03</td>\n",
       "      <td>POINT (-73.99454 40.66265)</td>\n",
       "    </tr>\n",
       "    <tr>\n",
       "      <th>1</th>\n",
       "      <td>Manhattan</td>\n",
       "      <td>Private room</td>\n",
       "      <td>75</td>\n",
       "      <td>2</td>\n",
       "      <td>0.73</td>\n",
       "      <td>POINT (-73.96751 40.80380)</td>\n",
       "    </tr>\n",
       "    <tr>\n",
       "      <th>2</th>\n",
       "      <td>Brooklyn</td>\n",
       "      <td>Private room</td>\n",
       "      <td>60</td>\n",
       "      <td>30</td>\n",
       "      <td>0.30</td>\n",
       "      <td>POINT (-73.95512 40.68535)</td>\n",
       "    </tr>\n",
       "    <tr>\n",
       "      <th>3</th>\n",
       "      <td>Manhattan</td>\n",
       "      <td>Private room</td>\n",
       "      <td>68</td>\n",
       "      <td>2</td>\n",
       "      <td>3.38</td>\n",
       "      <td>POINT (-73.98317 40.76457)</td>\n",
       "    </tr>\n",
       "    <tr>\n",
       "      <th>4</th>\n",
       "      <td>Manhattan</td>\n",
       "      <td>Entire home/apt</td>\n",
       "      <td>175</td>\n",
       "      <td>30</td>\n",
       "      <td>0.31</td>\n",
       "      <td>POINT (-73.98559 40.75356)</td>\n",
       "    </tr>\n",
       "  </tbody>\n",
       "</table>\n",
       "</div>"
      ],
      "text/plain": [
       "  neighbourhood_group        room_type  daily_price_usd  minimum_nights  \\\n",
       "0            Brooklyn  Entire home/apt              275              21   \n",
       "1           Manhattan     Private room               75               2   \n",
       "2            Brooklyn     Private room               60              30   \n",
       "3           Manhattan     Private room               68               2   \n",
       "4           Manhattan  Entire home/apt              175              30   \n",
       "\n",
       "   reviews_per_month                    geometry  \n",
       "0               0.03  POINT (-73.99454 40.66265)  \n",
       "1               0.73  POINT (-73.96751 40.80380)  \n",
       "2               0.30  POINT (-73.95512 40.68535)  \n",
       "3               3.38  POINT (-73.98317 40.76457)  \n",
       "4               0.31  POINT (-73.98559 40.75356)  "
      ]
     },
     "execution_count": 24,
     "metadata": {},
     "output_type": "execute_result"
    }
   ],
   "source": [
    "airbnb.head()"
   ]
  },
  {
   "cell_type": "code",
   "execution_count": 14,
   "metadata": {},
   "outputs": [],
   "source": [
    "# spatial join with geometry shapefile\n",
    "airbnb = gpd.sjoin(airbnb, sf, how='inner')"
   ]
  },
  {
   "cell_type": "code",
   "execution_count": 26,
   "metadata": {},
   "outputs": [
    {
     "data": {
      "text/html": [
       "<div>\n",
       "<style scoped>\n",
       "    .dataframe tbody tr th:only-of-type {\n",
       "        vertical-align: middle;\n",
       "    }\n",
       "\n",
       "    .dataframe tbody tr th {\n",
       "        vertical-align: top;\n",
       "    }\n",
       "\n",
       "    .dataframe thead th {\n",
       "        text-align: right;\n",
       "    }\n",
       "</style>\n",
       "<table border=\"1\" class=\"dataframe\">\n",
       "  <thead>\n",
       "    <tr style=\"text-align: right;\">\n",
       "      <th></th>\n",
       "      <th>neighbourhood_group</th>\n",
       "      <th>room_type</th>\n",
       "      <th>daily_price_usd</th>\n",
       "      <th>minimum_nights</th>\n",
       "      <th>reviews_per_month</th>\n",
       "      <th>geometry</th>\n",
       "      <th>index_right</th>\n",
       "      <th>objectid</th>\n",
       "      <th>shape_leng</th>\n",
       "      <th>shape_area</th>\n",
       "      <th>zone</th>\n",
       "      <th>locationid</th>\n",
       "      <th>borough</th>\n",
       "    </tr>\n",
       "  </thead>\n",
       "  <tbody>\n",
       "    <tr>\n",
       "      <th>0</th>\n",
       "      <td>Brooklyn</td>\n",
       "      <td>Entire home/apt</td>\n",
       "      <td>275</td>\n",
       "      <td>21</td>\n",
       "      <td>0.03</td>\n",
       "      <td>POINT (-73.99454 40.66265)</td>\n",
       "      <td>227</td>\n",
       "      <td>228</td>\n",
       "      <td>0.177685</td>\n",
       "      <td>0.000993</td>\n",
       "      <td>Sunset Park West</td>\n",
       "      <td>228</td>\n",
       "      <td>Brooklyn</td>\n",
       "    </tr>\n",
       "    <tr>\n",
       "      <th>502</th>\n",
       "      <td>Brooklyn</td>\n",
       "      <td>Entire home/apt</td>\n",
       "      <td>70</td>\n",
       "      <td>18</td>\n",
       "      <td>0.15</td>\n",
       "      <td>POINT (-74.02102 40.64368)</td>\n",
       "      <td>227</td>\n",
       "      <td>228</td>\n",
       "      <td>0.177685</td>\n",
       "      <td>0.000993</td>\n",
       "      <td>Sunset Park West</td>\n",
       "      <td>228</td>\n",
       "      <td>Brooklyn</td>\n",
       "    </tr>\n",
       "    <tr>\n",
       "      <th>732</th>\n",
       "      <td>Brooklyn</td>\n",
       "      <td>Entire home/apt</td>\n",
       "      <td>88</td>\n",
       "      <td>30</td>\n",
       "      <td>0.07</td>\n",
       "      <td>POINT (-73.99919 40.65724)</td>\n",
       "      <td>227</td>\n",
       "      <td>228</td>\n",
       "      <td>0.177685</td>\n",
       "      <td>0.000993</td>\n",
       "      <td>Sunset Park West</td>\n",
       "      <td>228</td>\n",
       "      <td>Brooklyn</td>\n",
       "    </tr>\n",
       "    <tr>\n",
       "      <th>776</th>\n",
       "      <td>Brooklyn</td>\n",
       "      <td>Entire home/apt</td>\n",
       "      <td>100</td>\n",
       "      <td>10</td>\n",
       "      <td>0.33</td>\n",
       "      <td>POINT (-73.99279 40.66044)</td>\n",
       "      <td>227</td>\n",
       "      <td>228</td>\n",
       "      <td>0.177685</td>\n",
       "      <td>0.000993</td>\n",
       "      <td>Sunset Park West</td>\n",
       "      <td>228</td>\n",
       "      <td>Brooklyn</td>\n",
       "    </tr>\n",
       "    <tr>\n",
       "      <th>1083</th>\n",
       "      <td>Brooklyn</td>\n",
       "      <td>Private room</td>\n",
       "      <td>75</td>\n",
       "      <td>7</td>\n",
       "      <td>0.42</td>\n",
       "      <td>POINT (-74.00793 40.64850)</td>\n",
       "      <td>227</td>\n",
       "      <td>228</td>\n",
       "      <td>0.177685</td>\n",
       "      <td>0.000993</td>\n",
       "      <td>Sunset Park West</td>\n",
       "      <td>228</td>\n",
       "      <td>Brooklyn</td>\n",
       "    </tr>\n",
       "  </tbody>\n",
       "</table>\n",
       "</div>"
      ],
      "text/plain": [
       "     neighbourhood_group        room_type  daily_price_usd  minimum_nights  \\\n",
       "0               Brooklyn  Entire home/apt              275              21   \n",
       "502             Brooklyn  Entire home/apt               70              18   \n",
       "732             Brooklyn  Entire home/apt               88              30   \n",
       "776             Brooklyn  Entire home/apt              100              10   \n",
       "1083            Brooklyn     Private room               75               7   \n",
       "\n",
       "      reviews_per_month                    geometry  index_right  objectid  \\\n",
       "0                  0.03  POINT (-73.99454 40.66265)          227       228   \n",
       "502                0.15  POINT (-74.02102 40.64368)          227       228   \n",
       "732                0.07  POINT (-73.99919 40.65724)          227       228   \n",
       "776                0.33  POINT (-73.99279 40.66044)          227       228   \n",
       "1083               0.42  POINT (-74.00793 40.64850)          227       228   \n",
       "\n",
       "      shape_leng  shape_area              zone  locationid   borough  \n",
       "0       0.177685    0.000993  Sunset Park West         228  Brooklyn  \n",
       "502     0.177685    0.000993  Sunset Park West         228  Brooklyn  \n",
       "732     0.177685    0.000993  Sunset Park West         228  Brooklyn  \n",
       "776     0.177685    0.000993  Sunset Park West         228  Brooklyn  \n",
       "1083    0.177685    0.000993  Sunset Park West         228  Brooklyn  "
      ]
     },
     "execution_count": 26,
     "metadata": {},
     "output_type": "execute_result"
    }
   ],
   "source": [
    "airbnb.head()"
   ]
  },
  {
   "cell_type": "code",
   "execution_count": 16,
   "metadata": {},
   "outputs": [],
   "source": [
    "airbnb = airbnb[['daily_price_usd', 'locationid']]\n",
    "airbnb =spark.createDataFrame(airbnb) \n",
    "airbnb.show(20)\n",
    "\n",
    "\n"
   ]
  },
  {
   "cell_type": "code",
   "execution_count": 17,
   "metadata": {},
   "outputs": [],
   "source": [
    "# count number of airbnbs per taxi zone and average daily airbnb price for each taxi zone\n",
    "airbnb = airbnb.groupBy(['locationid']) \\\n",
    "            .agg(\n",
    "                F.count('locationid').alias('number_of_airbnb_here'),\n",
    "                F.avg('daily_price_usd').alias('avg_daily_price_usd')\n",
    "            )\n",
    "            \n"
   ]
  },
  {
   "cell_type": "code",
   "execution_count": 33,
   "metadata": {},
   "outputs": [
    {
     "name": "stdout",
     "output_type": "stream",
     "text": [
      "+----------+---------------------+-------------------+\n",
      "|locationid|number_of_airbnb_here|avg_daily_price_usd|\n",
      "+----------+---------------------+-------------------+\n",
      "|       228|                  179| 126.11173184357541|\n",
      "|       181|                  580| 210.89655172413794|\n",
      "|       100|                   62|  639.6129032258065|\n",
      "|        74|                  390| 174.07435897435897|\n",
      "|        49|                  577| 188.28769497400347|\n",
      "|       163|                  289|  616.9653979238755|\n",
      "|       256|                  802|  182.9501246882793|\n",
      "|        24|                  267| 140.79026217228466|\n",
      "|       255|                  678| 220.86725663716814|\n",
      "|        48|                  882|  270.2596371882086|\n",
      "|       225|                 1209| 136.13316790736147|\n",
      "|        75|                  382|  198.7198952879581|\n",
      "|        97|                  315| 192.57777777777778|\n",
      "|       229|                  283|  305.9257950530035|\n",
      "|       145|                  195|              267.2|\n",
      "|        79|                  868| 235.05990783410138|\n",
      "|        89|                  430|  141.9813953488372|\n",
      "|        61|                 1205| 148.67385892116184|\n",
      "|       152|                  204| 137.07843137254903|\n",
      "|       148|                  712|  300.7191011235955|\n",
      "+----------+---------------------+-------------------+\n",
      "only showing top 20 rows\n",
      "\n"
     ]
    }
   ],
   "source": [
    "airbnb.show(20)"
   ]
  },
  {
   "cell_type": "code",
   "execution_count": 18,
   "metadata": {},
   "outputs": [
    {
     "name": "stdout",
     "output_type": "stream",
     "text": [
      "Number of rows after preprocessing: 244\n"
     ]
    },
    {
     "name": "stderr",
     "output_type": "stream",
     "text": [
      "                                                                                \r"
     ]
    }
   ],
   "source": [
    "print(f\"Number of rows after preprocessing: {airbnb.count()}\")"
   ]
  },
  {
   "cell_type": "code",
   "execution_count": 53,
   "metadata": {},
   "outputs": [],
   "source": [
    "\n",
    "\n",
    "airbnb \\\n",
    "        .coalesce(1) \\\n",
    "        .write \\\n",
    "        .mode('overwrite') \\\n",
    "        .parquet(f\"../data/curated/airbnb/airbnb.parquet\")"
   ]
  },
  {
   "cell_type": "markdown",
   "metadata": {},
   "source": [
    "### Census Data"
   ]
  },
  {
   "cell_type": "code",
   "execution_count": 30,
   "metadata": {},
   "outputs": [],
   "source": [
    "# make directories for curated layer\n",
    "\n",
    "import os\n",
    "from pyspark.sql import functions as F\n",
    "\n",
    "if not os.path.exists('../data/curated/'):\n",
    "    os.makedirs('../data/raw/')\n",
    "    \n",
    "if not os.path.exists('../data/curated/census'):\n",
    "    os.makedirs('../data/curated/census')\n"
   ]
  },
  {
   "cell_type": "code",
   "execution_count": 31,
   "metadata": {},
   "outputs": [
    {
     "name": "stdout",
     "output_type": "stream",
     "text": [
      "Number of rows before preprocessing: 2167\n"
     ]
    },
    {
     "name": "stderr",
     "output_type": "stream",
     "text": [
      "                                                                                \r"
     ]
    }
   ],
   "source": [
    "from pyspark.sql import functions as F\n",
    "from pyspark.sql.types import StringType, IntegerType, LongType\n",
    "\n",
    "def remove_last_4(number):\n",
    "    \"\"\"\n",
    "    Removes the last 4 digits from the census block codes to obtain the census tract code \n",
    "    \"\"\"    \n",
    "    return int(str(number)[:-4])\n",
    "\n",
    "\n",
    "remove_last_4_UDF = F.udf(lambda z: remove_last_4(z), LongType())\n",
    "\n",
    "census_block_loc = spark.read.parquet('../data/raw/census/census_block_loc.parquet')\n",
    "\n",
    "census_tracts = spark.read.parquet('../data/raw/census/census_tracts.parquet')\n",
    "\n",
    "print(f\"Number of rows before preprocessing: {census_tracts.count()}\")\n",
    "\n",
    "# Estimate the central longitude and latitude of census tracts by averaging the longitude and latitude of the blocks contained within each tract\n",
    "census = census_block_loc.withColumn(\n",
    "    'censustract',\n",
    "    remove_last_4_UDF(F.col('blockcode'))\n",
    ").drop(\n",
    "    'blockcode'\n",
    ").groupBy(\"censustract\") \\\n",
    "                    .agg(\n",
    "                        F.avg(\"latitude\").alias(\"latitude\"),\n",
    "                        F.avg(\"longitude\").alias(\"longitude\")\n",
    "                    ).join(census_tracts, \"censustract\", \"inner\").toPandas()\n",
    "\n",
    "# convert to geopandas dataframe                    \n",
    "census = gpd.GeoDataFrame(\n",
    "    census, geometry=gpd.points_from_xy(census.longitude, census.latitude, crs=\"+proj=longlat +ellps=WGS84 +datum=WGS84 +no_defs\")\n",
    ")\n",
    "\n",
    "census = census.drop(['latitude', 'longitude'], axis=1)\n",
    "\n",
    "\n"
   ]
  },
  {
   "cell_type": "code",
   "execution_count": 32,
   "metadata": {},
   "outputs": [
    {
     "data": {
      "text/html": [
       "<div>\n",
       "<style scoped>\n",
       "    .dataframe tbody tr th:only-of-type {\n",
       "        vertical-align: middle;\n",
       "    }\n",
       "\n",
       "    .dataframe tbody tr th {\n",
       "        vertical-align: top;\n",
       "    }\n",
       "\n",
       "    .dataframe thead th {\n",
       "        text-align: right;\n",
       "    }\n",
       "</style>\n",
       "<table border=\"1\" class=\"dataframe\">\n",
       "  <thead>\n",
       "    <tr style=\"text-align: right;\">\n",
       "      <th></th>\n",
       "      <th>censustract</th>\n",
       "      <th>borough</th>\n",
       "      <th>totalpop</th>\n",
       "      <th>incomepercap</th>\n",
       "      <th>poverty</th>\n",
       "      <th>professional</th>\n",
       "      <th>service</th>\n",
       "      <th>office</th>\n",
       "      <th>construction</th>\n",
       "      <th>production</th>\n",
       "      <th>...</th>\n",
       "      <th>carpool</th>\n",
       "      <th>transit</th>\n",
       "      <th>walk</th>\n",
       "      <th>workathome</th>\n",
       "      <th>meancommute</th>\n",
       "      <th>privatework</th>\n",
       "      <th>publicwork</th>\n",
       "      <th>selfemployed</th>\n",
       "      <th>unemployment</th>\n",
       "      <th>geometry</th>\n",
       "    </tr>\n",
       "  </thead>\n",
       "  <tbody>\n",
       "    <tr>\n",
       "      <th>0</th>\n",
       "      <td>36047016400</td>\n",
       "      <td>Brooklyn</td>\n",
       "      <td>654</td>\n",
       "      <td>31448.0</td>\n",
       "      <td>8.6</td>\n",
       "      <td>41.0</td>\n",
       "      <td>40.4</td>\n",
       "      <td>9.3</td>\n",
       "      <td>0.0</td>\n",
       "      <td>9.3</td>\n",
       "      <td>...</td>\n",
       "      <td>16.3</td>\n",
       "      <td>15.2</td>\n",
       "      <td>12.5</td>\n",
       "      <td>9.9</td>\n",
       "      <td>21.4</td>\n",
       "      <td>63.9</td>\n",
       "      <td>26.8</td>\n",
       "      <td>9.3</td>\n",
       "      <td>3.2</td>\n",
       "      <td>POINT (-74.03004 40.60602)</td>\n",
       "    </tr>\n",
       "    <tr>\n",
       "      <th>1</th>\n",
       "      <td>36047037700</td>\n",
       "      <td>Brooklyn</td>\n",
       "      <td>4240</td>\n",
       "      <td>25055.0</td>\n",
       "      <td>25.7</td>\n",
       "      <td>40.7</td>\n",
       "      <td>18.4</td>\n",
       "      <td>27.9</td>\n",
       "      <td>3.0</td>\n",
       "      <td>9.9</td>\n",
       "      <td>...</td>\n",
       "      <td>5.4</td>\n",
       "      <td>66.2</td>\n",
       "      <td>2.7</td>\n",
       "      <td>6.2</td>\n",
       "      <td>43.3</td>\n",
       "      <td>77.6</td>\n",
       "      <td>16.0</td>\n",
       "      <td>6.4</td>\n",
       "      <td>11.4</td>\n",
       "      <td>POINT (-73.92015 40.68427)</td>\n",
       "    </tr>\n",
       "    <tr>\n",
       "      <th>2</th>\n",
       "      <td>36081027000</td>\n",
       "      <td>Queens</td>\n",
       "      <td>2080</td>\n",
       "      <td>17577.0</td>\n",
       "      <td>29.3</td>\n",
       "      <td>21.2</td>\n",
       "      <td>49.2</td>\n",
       "      <td>11.0</td>\n",
       "      <td>11.0</td>\n",
       "      <td>7.4</td>\n",
       "      <td>...</td>\n",
       "      <td>3.5</td>\n",
       "      <td>50.6</td>\n",
       "      <td>3.8</td>\n",
       "      <td>1.2</td>\n",
       "      <td>47.1</td>\n",
       "      <td>67.6</td>\n",
       "      <td>28.9</td>\n",
       "      <td>3.5</td>\n",
       "      <td>16.1</td>\n",
       "      <td>POINT (-73.79035 40.68879)</td>\n",
       "    </tr>\n",
       "    <tr>\n",
       "      <th>3</th>\n",
       "      <td>36081021200</td>\n",
       "      <td>Queens</td>\n",
       "      <td>2362</td>\n",
       "      <td>17468.0</td>\n",
       "      <td>22.7</td>\n",
       "      <td>10.4</td>\n",
       "      <td>36.4</td>\n",
       "      <td>20.6</td>\n",
       "      <td>20.2</td>\n",
       "      <td>12.4</td>\n",
       "      <td>...</td>\n",
       "      <td>3.9</td>\n",
       "      <td>68.8</td>\n",
       "      <td>9.8</td>\n",
       "      <td>1.0</td>\n",
       "      <td>46.2</td>\n",
       "      <td>84.6</td>\n",
       "      <td>7.9</td>\n",
       "      <td>7.5</td>\n",
       "      <td>15.0</td>\n",
       "      <td>POINT (-73.81082 40.70116)</td>\n",
       "    </tr>\n",
       "    <tr>\n",
       "      <th>4</th>\n",
       "      <td>36081024000</td>\n",
       "      <td>Queens</td>\n",
       "      <td>6087</td>\n",
       "      <td>18458.0</td>\n",
       "      <td>24.8</td>\n",
       "      <td>20.5</td>\n",
       "      <td>33.2</td>\n",
       "      <td>22.3</td>\n",
       "      <td>14.4</td>\n",
       "      <td>9.6</td>\n",
       "      <td>...</td>\n",
       "      <td>0.8</td>\n",
       "      <td>73.2</td>\n",
       "      <td>6.3</td>\n",
       "      <td>0.7</td>\n",
       "      <td>45.2</td>\n",
       "      <td>81.7</td>\n",
       "      <td>10.3</td>\n",
       "      <td>8.0</td>\n",
       "      <td>18.5</td>\n",
       "      <td>POINT (-73.80513 40.70387)</td>\n",
       "    </tr>\n",
       "  </tbody>\n",
       "</table>\n",
       "<p>5 rows × 21 columns</p>\n",
       "</div>"
      ],
      "text/plain": [
       "   censustract   borough  totalpop  incomepercap  poverty  professional  \\\n",
       "0  36047016400  Brooklyn       654       31448.0      8.6          41.0   \n",
       "1  36047037700  Brooklyn      4240       25055.0     25.7          40.7   \n",
       "2  36081027000    Queens      2080       17577.0     29.3          21.2   \n",
       "3  36081021200    Queens      2362       17468.0     22.7          10.4   \n",
       "4  36081024000    Queens      6087       18458.0     24.8          20.5   \n",
       "\n",
       "   service  office  construction  production  ...  carpool  transit  walk  \\\n",
       "0     40.4     9.3           0.0         9.3  ...     16.3     15.2  12.5   \n",
       "1     18.4    27.9           3.0         9.9  ...      5.4     66.2   2.7   \n",
       "2     49.2    11.0          11.0         7.4  ...      3.5     50.6   3.8   \n",
       "3     36.4    20.6          20.2        12.4  ...      3.9     68.8   9.8   \n",
       "4     33.2    22.3          14.4         9.6  ...      0.8     73.2   6.3   \n",
       "\n",
       "   workathome  meancommute  privatework  publicwork  selfemployed  \\\n",
       "0         9.9         21.4         63.9        26.8           9.3   \n",
       "1         6.2         43.3         77.6        16.0           6.4   \n",
       "2         1.2         47.1         67.6        28.9           3.5   \n",
       "3         1.0         46.2         84.6         7.9           7.5   \n",
       "4         0.7         45.2         81.7        10.3           8.0   \n",
       "\n",
       "   unemployment                    geometry  \n",
       "0           3.2  POINT (-74.03004 40.60602)  \n",
       "1          11.4  POINT (-73.92015 40.68427)  \n",
       "2          16.1  POINT (-73.79035 40.68879)  \n",
       "3          15.0  POINT (-73.81082 40.70116)  \n",
       "4          18.5  POINT (-73.80513 40.70387)  \n",
       "\n",
       "[5 rows x 21 columns]"
      ]
     },
     "execution_count": 32,
     "metadata": {},
     "output_type": "execute_result"
    }
   ],
   "source": [
    "census.head()"
   ]
  },
  {
   "cell_type": "code",
   "execution_count": 33,
   "metadata": {},
   "outputs": [
    {
     "data": {
      "text/html": [
       "<div>\n",
       "<style scoped>\n",
       "    .dataframe tbody tr th:only-of-type {\n",
       "        vertical-align: middle;\n",
       "    }\n",
       "\n",
       "    .dataframe tbody tr th {\n",
       "        vertical-align: top;\n",
       "    }\n",
       "\n",
       "    .dataframe thead th {\n",
       "        text-align: right;\n",
       "    }\n",
       "</style>\n",
       "<table border=\"1\" class=\"dataframe\">\n",
       "  <thead>\n",
       "    <tr style=\"text-align: right;\">\n",
       "      <th></th>\n",
       "      <th>censustract</th>\n",
       "      <th>borough_left</th>\n",
       "      <th>totalpop</th>\n",
       "      <th>incomepercap</th>\n",
       "      <th>poverty</th>\n",
       "      <th>professional</th>\n",
       "      <th>service</th>\n",
       "      <th>office</th>\n",
       "      <th>construction</th>\n",
       "      <th>production</th>\n",
       "      <th>...</th>\n",
       "      <th>selfemployed</th>\n",
       "      <th>unemployment</th>\n",
       "      <th>geometry</th>\n",
       "      <th>index_right</th>\n",
       "      <th>objectid</th>\n",
       "      <th>shape_leng</th>\n",
       "      <th>shape_area</th>\n",
       "      <th>zone</th>\n",
       "      <th>locationid</th>\n",
       "      <th>borough_right</th>\n",
       "    </tr>\n",
       "  </thead>\n",
       "  <tbody>\n",
       "    <tr>\n",
       "      <th>0</th>\n",
       "      <td>36047016400</td>\n",
       "      <td>Brooklyn</td>\n",
       "      <td>654</td>\n",
       "      <td>31448.0</td>\n",
       "      <td>8.6</td>\n",
       "      <td>41.0</td>\n",
       "      <td>40.4</td>\n",
       "      <td>9.3</td>\n",
       "      <td>0.0</td>\n",
       "      <td>9.3</td>\n",
       "      <td>...</td>\n",
       "      <td>9.3</td>\n",
       "      <td>3.2</td>\n",
       "      <td>POINT (-74.03004 40.60602)</td>\n",
       "      <td>13</td>\n",
       "      <td>14</td>\n",
       "      <td>0.175214</td>\n",
       "      <td>0.001382</td>\n",
       "      <td>Bay Ridge</td>\n",
       "      <td>14</td>\n",
       "      <td>Brooklyn</td>\n",
       "    </tr>\n",
       "    <tr>\n",
       "      <th>13</th>\n",
       "      <td>36047016200</td>\n",
       "      <td>Brooklyn</td>\n",
       "      <td>2560</td>\n",
       "      <td>39457.0</td>\n",
       "      <td>11.0</td>\n",
       "      <td>54.3</td>\n",
       "      <td>13.5</td>\n",
       "      <td>23.3</td>\n",
       "      <td>6.6</td>\n",
       "      <td>2.3</td>\n",
       "      <td>...</td>\n",
       "      <td>4.0</td>\n",
       "      <td>5.9</td>\n",
       "      <td>POINT (-74.03053 40.61387)</td>\n",
       "      <td>13</td>\n",
       "      <td>14</td>\n",
       "      <td>0.175214</td>\n",
       "      <td>0.001382</td>\n",
       "      <td>Bay Ridge</td>\n",
       "      <td>14</td>\n",
       "      <td>Brooklyn</td>\n",
       "    </tr>\n",
       "    <tr>\n",
       "      <th>29</th>\n",
       "      <td>36047006200</td>\n",
       "      <td>Brooklyn</td>\n",
       "      <td>2818</td>\n",
       "      <td>30471.0</td>\n",
       "      <td>17.7</td>\n",
       "      <td>56.0</td>\n",
       "      <td>16.5</td>\n",
       "      <td>17.6</td>\n",
       "      <td>3.1</td>\n",
       "      <td>7.0</td>\n",
       "      <td>...</td>\n",
       "      <td>5.2</td>\n",
       "      <td>12.6</td>\n",
       "      <td>POINT (-74.03148 40.62472)</td>\n",
       "      <td>13</td>\n",
       "      <td>14</td>\n",
       "      <td>0.175214</td>\n",
       "      <td>0.001382</td>\n",
       "      <td>Bay Ridge</td>\n",
       "      <td>14</td>\n",
       "      <td>Brooklyn</td>\n",
       "    </tr>\n",
       "    <tr>\n",
       "      <th>191</th>\n",
       "      <td>36047016000</td>\n",
       "      <td>Brooklyn</td>\n",
       "      <td>4475</td>\n",
       "      <td>32414.0</td>\n",
       "      <td>20.7</td>\n",
       "      <td>44.7</td>\n",
       "      <td>21.8</td>\n",
       "      <td>21.6</td>\n",
       "      <td>3.4</td>\n",
       "      <td>8.5</td>\n",
       "      <td>...</td>\n",
       "      <td>3.0</td>\n",
       "      <td>9.5</td>\n",
       "      <td>POINT (-74.02673 40.61907)</td>\n",
       "      <td>13</td>\n",
       "      <td>14</td>\n",
       "      <td>0.175214</td>\n",
       "      <td>0.001382</td>\n",
       "      <td>Bay Ridge</td>\n",
       "      <td>14</td>\n",
       "      <td>Brooklyn</td>\n",
       "    </tr>\n",
       "    <tr>\n",
       "      <th>288</th>\n",
       "      <td>36047005201</td>\n",
       "      <td>Brooklyn</td>\n",
       "      <td>1722</td>\n",
       "      <td>50110.0</td>\n",
       "      <td>26.2</td>\n",
       "      <td>67.6</td>\n",
       "      <td>15.6</td>\n",
       "      <td>13.1</td>\n",
       "      <td>2.0</td>\n",
       "      <td>1.7</td>\n",
       "      <td>...</td>\n",
       "      <td>4.8</td>\n",
       "      <td>7.0</td>\n",
       "      <td>POINT (-74.03940 40.62171)</td>\n",
       "      <td>13</td>\n",
       "      <td>14</td>\n",
       "      <td>0.175214</td>\n",
       "      <td>0.001382</td>\n",
       "      <td>Bay Ridge</td>\n",
       "      <td>14</td>\n",
       "      <td>Brooklyn</td>\n",
       "    </tr>\n",
       "  </tbody>\n",
       "</table>\n",
       "<p>5 rows × 28 columns</p>\n",
       "</div>"
      ],
      "text/plain": [
       "     censustract borough_left  totalpop  incomepercap  poverty  professional  \\\n",
       "0    36047016400     Brooklyn       654       31448.0      8.6          41.0   \n",
       "13   36047016200     Brooklyn      2560       39457.0     11.0          54.3   \n",
       "29   36047006200     Brooklyn      2818       30471.0     17.7          56.0   \n",
       "191  36047016000     Brooklyn      4475       32414.0     20.7          44.7   \n",
       "288  36047005201     Brooklyn      1722       50110.0     26.2          67.6   \n",
       "\n",
       "     service  office  construction  production  ...  selfemployed  \\\n",
       "0       40.4     9.3           0.0         9.3  ...           9.3   \n",
       "13      13.5    23.3           6.6         2.3  ...           4.0   \n",
       "29      16.5    17.6           3.1         7.0  ...           5.2   \n",
       "191     21.8    21.6           3.4         8.5  ...           3.0   \n",
       "288     15.6    13.1           2.0         1.7  ...           4.8   \n",
       "\n",
       "     unemployment                    geometry  index_right  objectid  \\\n",
       "0             3.2  POINT (-74.03004 40.60602)           13        14   \n",
       "13            5.9  POINT (-74.03053 40.61387)           13        14   \n",
       "29           12.6  POINT (-74.03148 40.62472)           13        14   \n",
       "191           9.5  POINT (-74.02673 40.61907)           13        14   \n",
       "288           7.0  POINT (-74.03940 40.62171)           13        14   \n",
       "\n",
       "     shape_leng  shape_area       zone  locationid  borough_right  \n",
       "0      0.175214    0.001382  Bay Ridge          14       Brooklyn  \n",
       "13     0.175214    0.001382  Bay Ridge          14       Brooklyn  \n",
       "29     0.175214    0.001382  Bay Ridge          14       Brooklyn  \n",
       "191    0.175214    0.001382  Bay Ridge          14       Brooklyn  \n",
       "288    0.175214    0.001382  Bay Ridge          14       Brooklyn  \n",
       "\n",
       "[5 rows x 28 columns]"
      ]
     },
     "execution_count": 33,
     "metadata": {},
     "output_type": "execute_result"
    }
   ],
   "source": [
    "# spatial join with geometry shapefile\n",
    "census = gpd.sjoin(census, sf, how='inner')\n",
    "\n",
    "census.head()"
   ]
  },
  {
   "cell_type": "code",
   "execution_count": 34,
   "metadata": {},
   "outputs": [
    {
     "name": "stdout",
     "output_type": "stream",
     "text": [
      "+--------+------------+-------+------------+-------+------+------------+----------+-----+-------+-------+----+----------+-----------+-----------+----------+------------+------------+----------+\n",
      "|totalpop|incomepercap|poverty|professional|service|office|construction|production|drive|carpool|transit|walk|workathome|meancommute|privatework|publicwork|selfemployed|unemployment|locationid|\n",
      "+--------+------------+-------+------------+-------+------+------------+----------+-----+-------+-------+----+----------+-----------+-----------+----------+------------+------------+----------+\n",
      "|     654|     31448.0|    8.6|        41.0|   40.4|   9.3|         0.0|       9.3| 46.0|   16.3|   15.2|12.5|       9.9|       21.4|       63.9|      26.8|         9.3|         3.2|        14|\n",
      "|    2560|     39457.0|   11.0|        54.3|   13.5|  23.3|         6.6|       2.3| 29.2|    4.5|   54.4| 6.8|       4.4|       40.4|       74.9|      21.1|         4.0|         5.9|        14|\n",
      "|    2818|     30471.0|   17.7|        56.0|   16.5|  17.6|         3.1|       7.0| 16.2|    2.5|   66.1| 8.2|       6.7|       41.7|       77.3|      17.6|         5.2|        12.6|        14|\n",
      "|    4475|     32414.0|   20.7|        44.7|   21.8|  21.6|         3.4|       8.5| 23.7|    7.0|   55.8|10.7|       1.8|       39.3|       74.5|      22.5|         3.0|         9.5|        14|\n",
      "|    1722|     50110.0|   26.2|        67.6|   15.6|  13.1|         2.0|       1.7| 26.1|   12.6|   51.8| 6.0|       0.0|       50.2|       70.7|      24.5|         4.8|         7.0|        14|\n",
      "|    4457|     40127.0|    8.4|        52.6|   12.4|  19.4|         2.8|      12.8| 20.9|    5.7|   67.7| 3.3|       2.0|       45.6|       75.7|      20.4|         3.9|         7.2|        14|\n",
      "|    3423|     32150.0|   19.5|        45.8|   26.4|  15.4|         6.1|       6.3| 18.7|    4.1|   57.4|15.5|       2.6|       42.4|       77.5|      19.8|         2.6|         4.3|        14|\n",
      "|    3105|     28741.0|   15.6|        36.7|   18.7|  28.9|         6.5|       9.2| 26.6|    3.4|   54.4|10.7|       4.3|       41.3|       77.2|      13.5|         9.3|        10.7|        14|\n",
      "|    2767|     18442.0|   31.1|        24.6|   32.6|  22.8|         6.3|      13.7| 19.5|    4.0|   59.2|12.0|       2.9|       43.6|       82.6|      10.3|         7.1|         8.3|        14|\n",
      "|    2717|     37289.0|   18.4|        41.9|   12.6|  27.7|         9.4|       8.4| 16.3|    5.0|   66.9| 7.1|       2.6|       43.1|       83.1|      10.4|         6.5|        13.6|        14|\n",
      "|    5290|     20590.0|   29.7|        37.9|   16.3|  24.4|         8.1|      13.3| 25.9|    6.2|   56.6|10.5|       0.8|       40.5|       76.5|      19.1|         4.4|         9.7|        14|\n",
      "|    1841|     38640.0|   13.5|        59.2|   10.3|  18.3|         7.1|       5.1| 44.7|    2.8|   42.7| 7.8|       0.6|       39.8|       74.0|      20.0|         5.9|         5.9|        14|\n",
      "|    3813|     34710.0|   12.6|        45.0|   15.4|  29.5|         4.4|       5.6| 23.5|    6.3|   56.1| 8.8|       4.3|       42.0|       80.6|      16.1|         3.2|         4.5|        14|\n",
      "|    3797|     36552.0|   15.0|        44.8|   20.5|  21.8|         5.8|       7.1| 21.5|    4.1|   54.4|15.4|       3.5|       38.5|       80.7|      14.6|         4.7|        18.4|        14|\n",
      "|    3860|     30896.0|    6.4|        41.0|   20.8|  28.2|         2.9|       7.0| 28.8|    6.3|   49.8|12.3|       1.8|       38.7|       75.7|      18.1|         4.9|         8.3|        14|\n",
      "|    3244|     38667.0|   11.3|        42.0|   19.6|  27.2|         2.0|       9.1| 23.7|    3.7|   56.9|11.5|       2.8|       40.1|       80.5|      10.7|         8.8|         9.5|        14|\n",
      "|    2463|     25303.0|   13.7|        52.1|   13.3|  23.1|         4.4|       7.0| 27.4|    8.7|   53.3| 8.7|       1.9|       37.4|       72.2|      25.7|         2.1|        10.0|        14|\n",
      "|    3333|     32443.0|   21.9|        45.2|   13.7|  26.4|         6.2|       8.6| 20.5|    8.5|   49.7|16.0|       4.6|       37.6|       78.3|      15.8|         4.7|         6.5|        14|\n",
      "|    5224|     27040.0|   24.4|        29.3|   21.6|  26.0|        14.0|       9.1| 15.8|    6.1|   56.5|11.2|       8.4|       40.9|       79.9|      12.8|         7.2|         8.0|        14|\n",
      "|    4240|     25055.0|   25.7|        40.7|   18.4|  27.9|         3.0|       9.9| 15.9|    5.4|   66.2| 2.7|       6.2|       43.3|       77.6|      16.0|         6.4|        11.4|       225|\n",
      "+--------+------------+-------+------------+-------+------+------------+----------+-----+-------+-------+----+----------+-----------+-----------+----------+------------+------------+----------+\n",
      "only showing top 20 rows\n",
      "\n"
     ]
    }
   ],
   "source": [
    "# drop useless features\n",
    "census = census.drop(['censustract', 'borough_left', 'geometry', 'index_right', 'objectid', 'shape_leng', 'shape_area', 'zone', 'borough_right'], axis=1)\n",
    "census =spark.createDataFrame(census) \n",
    "census.show(20)"
   ]
  },
  {
   "cell_type": "code",
   "execution_count": 35,
   "metadata": {},
   "outputs": [],
   "source": [
    "# retain total pop for each taxi zone, and averages of employment and transportation statistics\n",
    "census = census.groupBy(['locationid']) \\\n",
    "            .agg(\n",
    "                F.sum('totalpop').alias('total_pop'),\n",
    "                F.avg('incomepercap').alias('avg_income_per_cap'),\n",
    "                F.avg('poverty').alias('poverty_%'),\n",
    "                F.avg('professional').alias('professional_%'),\n",
    "                F.avg('service').alias('service_%'),\n",
    "                F.avg('office').alias('office_%'),\n",
    "                F.avg('construction').alias('construction_%'),\n",
    "                F.avg('production').alias('production_%'),\n",
    "                F.avg('drive').alias('drive_%'),\n",
    "                F.avg('carpool').alias('carpool_%'),\n",
    "                F.avg('transit').alias('transit_%'),\n",
    "                F.avg('walk').alias('walk_%'),\n",
    "                F.avg('workathome').alias('work_at_home_%'),\n",
    "                F.avg('meancommute').alias('avg_commute_mins'),\n",
    "                F.avg('privatework').alias('private_work_%'),\n",
    "                F.avg('publicwork').alias('public_work_%'),\n",
    "                F.avg('selfemployed').alias('self_employed_%'),\n",
    "                F.avg('unemployment').alias('unemployment_%'),\n",
    "            )\n",
    "            \n"
   ]
  },
  {
   "cell_type": "code",
   "execution_count": 36,
   "metadata": {},
   "outputs": [
    {
     "name": "stderr",
     "output_type": "stream",
     "text": [
      "23/08/21 04:27:09 WARN package: Truncated the string representation of a plan since it was too large. This behavior can be adjusted by setting 'spark.sql.debug.maxToStringFields'.\n"
     ]
    },
    {
     "name": "stdout",
     "output_type": "stream",
     "text": [
      "+----------+---------+------------------+------------------+------------------+------------------+------------------+------------------+------------------+------------------+------------------+------------------+------------------+------------------+------------------+-----------------+------------------+------------------+------------------+\n",
      "|locationid|total_pop|avg_income_per_cap|         poverty_%|    professional_%|         service_%|          office_%|    construction_%|      production_%|           drive_%|         carpool_%|         transit_%|            walk_%|    work_at_home_%|  avg_commute_mins|   private_work_%|     public_work_%|   self_employed_%|    unemployment_%|\n",
      "+----------+---------+------------------+------------------+------------------+------------------+------------------+------------------+------------------+------------------+------------------+------------------+------------------+------------------+------------------+-----------------+------------------+------------------+------------------+\n",
      "|       198|    72331|23847.105263157893| 18.65263157894737| 23.32105263157895| 27.42105263157895| 23.59473684210526|13.015789473684212|12.663157894736843| 20.48947368421052| 4.010526315789473|63.247368421052634| 8.131578947368423| 2.236842105263158|               NaN|82.84736842105262|10.252631578947367| 6.894736842105265|7.0894736842105255|\n",
      "|        22|    92433| 22956.30769230769|18.846153846153847| 26.71153846153846|25.815384615384616| 25.26923076923077| 9.696153846153845|12.492307692307692|20.126923076923074|6.6692307692307695| 61.23461538461538| 8.242307692307692|2.1884615384615382| 46.05384615384616|84.11538461538461|10.430769230769233| 5.434615384615385| 9.869230769230768|\n",
      "|       130|    54985|               NaN|               NaN|               NaN|               NaN|               NaN|               NaN|               NaN|               NaN|               NaN|               NaN|               NaN|               NaN|               NaN|              NaN|               NaN|               NaN|               NaN|\n",
      "|       215|    40690| 20283.85714285714|19.842857142857145|20.914285714285715| 33.23571428571429|              24.5| 8.907142857142857|12.450000000000001|              35.1| 4.807142857142858| 53.44285714285714| 3.442857142857142|1.8571428571428574| 47.98571428571428|76.12142857142858|18.778571428571432| 5.028571428571429|16.807142857142853|\n",
      "|       178|    18978|           26581.0|            23.325|44.737500000000004|            14.225|31.375000000000004|              4.75|             4.925|30.837500000000002| 6.599999999999999| 42.50000000000001|           14.3125|             4.225|           34.9125|             77.8|              13.6|               8.6|            6.7875|\n",
      "|       146|     7001|           28304.0|             22.05|31.525000000000002|            26.725|              22.3|              6.25|13.200000000000001|11.024999999999999|               2.7|              69.4|            10.425|2.8249999999999997|35.224999999999994|83.39999999999999|             7.325|              9.05|               8.7|\n",
      "|       236|    38753|        147978.125|             5.625|           75.6875| 4.012499999999999|           18.2625|               1.4|0.6499999999999999| 8.512500000000001|            2.5375|            54.075|13.100000000000001|11.637500000000001|              28.9|82.46249999999999|5.9624999999999995|11.150000000000002|             3.475|\n",
      "|       214|    24908|           28607.4|             13.74|             36.86|19.759999999999998|             25.78|             10.84| 6.779999999999999|49.239999999999995|               7.5|              34.6|              4.36|              2.62|              41.7|            79.34|             16.78|              3.88|              8.06|\n",
      "|       225|    66779|21489.055555555555|28.916666666666668| 33.71666666666667|28.505555555555564|24.366666666666667| 5.516666666666667| 7.877777777777776|15.583333333333334|1.7888888888888888|  70.8722222222222|4.8500000000000005| 4.111111111111111|              43.7|74.82222222222222|19.155555555555555| 6.016666666666667|16.738888888888894|\n",
      "|        14|    61563| 32920.52631578947| 17.14210526315789|45.352631578947374| 19.05263157894737|22.315789473684212| 5.321052631578948| 7.952631578947367|              25.0| 6.199999999999999|  53.9421052631579| 10.26315789473684|3.4684210526315784|40.236842105263165|76.62105263157896|17.884210526315794| 5.347368421052632| 8.584210526315792|\n",
      "|       122|    21633|24602.777777777777| 8.644444444444446| 25.58888888888889|29.522222222222222|25.422222222222224| 9.155555555555557|10.344444444444443|43.900000000000006|3.7333333333333334| 47.04444444444445| 2.511111111111111|1.3333333333333333|48.733333333333334|78.34444444444445|18.266666666666666| 3.388888888888889|15.200000000000001|\n",
      "|       223|    48680|               NaN|               NaN|               NaN|               NaN|               NaN|               NaN|               NaN|               NaN|               NaN|               NaN|               NaN|               NaN|               NaN|              NaN|               NaN|               NaN|               NaN|\n",
      "|        82|    85813|21383.058823529413| 20.53529411764706| 22.72941176470588|34.411764705882355| 20.75294117647059| 8.588235294117649|13.523529411764704| 12.75294117647059| 4.658823529411766| 71.62941176470588|7.5176470588235285|1.4823529411764707|42.005882352941185|85.01176470588234| 7.588235294117647| 7.258823529411766| 6.370588235294117|\n",
      "|       183|    14605|28413.333333333332|15.233333333333334|              32.1|25.066666666666666|31.366666666666664| 7.366666666666666| 4.133333333333334| 38.06666666666666|7.1000000000000005| 49.96666666666667|1.0999999999999999|2.8000000000000003|41.233333333333334|73.00000000000001|21.333333333333332| 5.666666666666667| 9.299999999999999|\n",
      "|         7|    77579|33005.913043478264|15.969565217391308| 42.99999999999999|22.930434782608696| 20.57391304347826| 6.143478260869566|7.3478260869565215|12.452173913043477| 2.404347826086956| 72.86956521739131| 6.465217391304349|3.2478260869565205| 37.94347826086957|81.76956521739132|              10.8|  7.31304347826087| 8.269565217391307|\n",
      "|       116|    45173|24775.833333333332|27.233333333333334|              37.5|             28.55|22.666666666666668| 4.366666666666666| 6.933333333333333|              8.45|2.1666666666666665| 75.88333333333334| 5.583333333333333| 4.766666666666667|             39.15|             80.6|11.566666666666665| 7.783333333333334|11.433333333333332|\n",
      "|        95|    86168|44736.041666666664|            9.1125|           56.3375|12.854166666666664|21.329166666666666|3.3166666666666664| 6.175000000000001| 24.24166666666666| 5.766666666666666| 58.09166666666667| 6.383333333333333| 4.379166666666666| 41.52083333333333|78.85416666666667|           14.3125| 6.670833333333332|             6.125|\n",
      "|        89|   107852| 23545.73076923077|19.592307692307696| 35.50384615384615| 29.02307692307692| 19.97307692307692| 5.753846153846154| 9.765384615384615|18.403846153846153|3.8653846153846154| 65.45384615384616| 6.346153846153846|              3.55| 42.53846153846154|77.08076923076922|14.273076923076921|  8.62307692307692| 9.561538461538463|\n",
      "|       131|    26254|           33324.0|11.825000000000001|           47.4875|13.075000000000001|           28.1375|4.5249999999999995|            6.7875|            42.325|            5.9625|           45.5875|            2.4125|2.7750000000000004|           42.8875|           78.525|16.162499999999998| 5.137499999999999|6.6499999999999995|\n",
      "|       205|    54066|25634.956521739132|11.252173913043478| 26.43913043478261|28.852173913043476|23.956521739130434| 6.208695652173914|14.543478260869563|  42.3304347826087|4.6695652173913045| 48.15652173913043|1.8347826086956527|2.3434782608695652|               NaN|75.31304347826087|21.939130434782612| 2.730434782608696|11.604347826086956|\n",
      "+----------+---------+------------------+------------------+------------------+------------------+------------------+------------------+------------------+------------------+------------------+------------------+------------------+------------------+------------------+-----------------+------------------+------------------+------------------+\n",
      "only showing top 20 rows\n",
      "\n"
     ]
    }
   ],
   "source": [
    "census.show(20)"
   ]
  },
  {
   "cell_type": "code",
   "execution_count": 37,
   "metadata": {},
   "outputs": [
    {
     "name": "stdout",
     "output_type": "stream",
     "text": [
      "Number of rows after preprocessing: 252\n"
     ]
    }
   ],
   "source": [
    "print(f\"Number of rows after preprocessing: {census.count()}\")    \n"
   ]
  },
  {
   "cell_type": "code",
   "execution_count": 38,
   "metadata": {},
   "outputs": [],
   "source": [
    "\n",
    "census \\\n",
    "        .coalesce(1) \\\n",
    "        .write \\\n",
    "        .mode('overwrite') \\\n",
    "        .parquet(f\"../data/curated/census/census.parquet\")\n"
   ]
  },
  {
   "cell_type": "markdown",
   "metadata": {},
   "source": [
    "### Parking Munimeters"
   ]
  },
  {
   "cell_type": "code",
   "execution_count": 110,
   "metadata": {},
   "outputs": [],
   "source": [
    "# make directories for curated layer\n",
    "\n",
    "import os\n",
    "from pyspark.sql import functions as F\n",
    "\n",
    "if not os.path.exists('../data/curated/'):\n",
    "    os.makedirs('../data/parking/')\n",
    "    \n",
    "if not os.path.exists('../data/curated/parking'):\n",
    "    os.makedirs('../data/curated/parking')\n"
   ]
  },
  {
   "cell_type": "code",
   "execution_count": 39,
   "metadata": {},
   "outputs": [
    {
     "name": "stdout",
     "output_type": "stream",
     "text": [
      "Number of rows before preprocessing: 13415\n"
     ]
    }
   ],
   "source": [
    "from pyspark.sql import functions as F\n",
    "from pyspark.sql.types import StringType, IntegerType\n",
    "\n",
    "parking = spark.read.parquet('../data/raw/parking/parking.parquet')\n",
    "\n",
    "print(f\"Number of rows before preprocessing: {parking.count()}\")\n",
    "\n",
    "# retain parking meters which are currently listed as 'active'\n",
    "parking = parking.where(F.col('status') == \"Active\").drop('status').toPandas()\n",
    "\n",
    "# convert to geopandas dataframe\n",
    "parking = gpd.GeoDataFrame( \n",
    "    parking, geometry=gpd.points_from_xy(parking.longitude, parking.latitude, crs=\"+proj=longlat +ellps=WGS84 +datum=WGS84 +no_defs\"),  \n",
    ")\n",
    "\n",
    "parking = parking.drop(['latitude', 'longitude'], axis=1)\n",
    "\n"
   ]
  },
  {
   "cell_type": "code",
   "execution_count": 112,
   "metadata": {},
   "outputs": [
    {
     "data": {
      "text/html": [
       "<div>\n",
       "<style scoped>\n",
       "    .dataframe tbody tr th:only-of-type {\n",
       "        vertical-align: middle;\n",
       "    }\n",
       "\n",
       "    .dataframe tbody tr th {\n",
       "        vertical-align: top;\n",
       "    }\n",
       "\n",
       "    .dataframe thead th {\n",
       "        text-align: right;\n",
       "    }\n",
       "</style>\n",
       "<table border=\"1\" class=\"dataframe\">\n",
       "  <thead>\n",
       "    <tr style=\"text-align: right;\">\n",
       "      <th></th>\n",
       "      <th>borough</th>\n",
       "      <th>geometry</th>\n",
       "    </tr>\n",
       "  </thead>\n",
       "  <tbody>\n",
       "    <tr>\n",
       "      <th>0</th>\n",
       "      <td>Manhattan</td>\n",
       "      <td>POINT (-73.97660 40.78751)</td>\n",
       "    </tr>\n",
       "    <tr>\n",
       "      <th>1</th>\n",
       "      <td>Manhattan</td>\n",
       "      <td>POINT (-73.98694 40.74620)</td>\n",
       "    </tr>\n",
       "    <tr>\n",
       "      <th>2</th>\n",
       "      <td>Manhattan</td>\n",
       "      <td>POINT (-73.95643 40.77849)</td>\n",
       "    </tr>\n",
       "    <tr>\n",
       "      <th>3</th>\n",
       "      <td>Queens</td>\n",
       "      <td>POINT (-73.81484 40.73544)</td>\n",
       "    </tr>\n",
       "    <tr>\n",
       "      <th>4</th>\n",
       "      <td>Manhattan</td>\n",
       "      <td>POINT (-73.98251 40.73990)</td>\n",
       "    </tr>\n",
       "  </tbody>\n",
       "</table>\n",
       "</div>"
      ],
      "text/plain": [
       "     borough                    geometry\n",
       "0  Manhattan  POINT (-73.97660 40.78751)\n",
       "1  Manhattan  POINT (-73.98694 40.74620)\n",
       "2  Manhattan  POINT (-73.95643 40.77849)\n",
       "3     Queens  POINT (-73.81484 40.73544)\n",
       "4  Manhattan  POINT (-73.98251 40.73990)"
      ]
     },
     "execution_count": 112,
     "metadata": {},
     "output_type": "execute_result"
    }
   ],
   "source": [
    "parking.head()"
   ]
  },
  {
   "cell_type": "code",
   "execution_count": 27,
   "metadata": {},
   "outputs": [],
   "source": [
    "# spatial join with shapefile\n",
    "parking = gpd.sjoin(parking, sf, how='inner')"
   ]
  },
  {
   "cell_type": "code",
   "execution_count": 114,
   "metadata": {},
   "outputs": [
    {
     "data": {
      "text/html": [
       "<div>\n",
       "<style scoped>\n",
       "    .dataframe tbody tr th:only-of-type {\n",
       "        vertical-align: middle;\n",
       "    }\n",
       "\n",
       "    .dataframe tbody tr th {\n",
       "        vertical-align: top;\n",
       "    }\n",
       "\n",
       "    .dataframe thead th {\n",
       "        text-align: right;\n",
       "    }\n",
       "</style>\n",
       "<table border=\"1\" class=\"dataframe\">\n",
       "  <thead>\n",
       "    <tr style=\"text-align: right;\">\n",
       "      <th></th>\n",
       "      <th>borough_left</th>\n",
       "      <th>geometry</th>\n",
       "      <th>index_right</th>\n",
       "      <th>objectid</th>\n",
       "      <th>shape_leng</th>\n",
       "      <th>shape_area</th>\n",
       "      <th>zone</th>\n",
       "      <th>locationid</th>\n",
       "      <th>borough_right</th>\n",
       "    </tr>\n",
       "  </thead>\n",
       "  <tbody>\n",
       "    <tr>\n",
       "      <th>0</th>\n",
       "      <td>Manhattan</td>\n",
       "      <td>POINT (-73.97660 40.78751)</td>\n",
       "      <td>238</td>\n",
       "      <td>239</td>\n",
       "      <td>0.063626</td>\n",
       "      <td>0.000205</td>\n",
       "      <td>Upper West Side South</td>\n",
       "      <td>239</td>\n",
       "      <td>Manhattan</td>\n",
       "    </tr>\n",
       "    <tr>\n",
       "      <th>720</th>\n",
       "      <td>Manhattan</td>\n",
       "      <td>POINT (-73.97979 40.78439)</td>\n",
       "      <td>238</td>\n",
       "      <td>239</td>\n",
       "      <td>0.063626</td>\n",
       "      <td>0.000205</td>\n",
       "      <td>Upper West Side South</td>\n",
       "      <td>239</td>\n",
       "      <td>Manhattan</td>\n",
       "    </tr>\n",
       "    <tr>\n",
       "      <th>856</th>\n",
       "      <td>Manhattan</td>\n",
       "      <td>POINT (-73.97808 40.78668)</td>\n",
       "      <td>238</td>\n",
       "      <td>239</td>\n",
       "      <td>0.063626</td>\n",
       "      <td>0.000205</td>\n",
       "      <td>Upper West Side South</td>\n",
       "      <td>239</td>\n",
       "      <td>Manhattan</td>\n",
       "    </tr>\n",
       "    <tr>\n",
       "      <th>1037</th>\n",
       "      <td>Manhattan</td>\n",
       "      <td>POINT (-73.97805 40.78616)</td>\n",
       "      <td>238</td>\n",
       "      <td>239</td>\n",
       "      <td>0.063626</td>\n",
       "      <td>0.000205</td>\n",
       "      <td>Upper West Side South</td>\n",
       "      <td>239</td>\n",
       "      <td>Manhattan</td>\n",
       "    </tr>\n",
       "    <tr>\n",
       "      <th>1135</th>\n",
       "      <td>Manhattan</td>\n",
       "      <td>POINT (-73.97671 40.78782)</td>\n",
       "      <td>238</td>\n",
       "      <td>239</td>\n",
       "      <td>0.063626</td>\n",
       "      <td>0.000205</td>\n",
       "      <td>Upper West Side South</td>\n",
       "      <td>239</td>\n",
       "      <td>Manhattan</td>\n",
       "    </tr>\n",
       "  </tbody>\n",
       "</table>\n",
       "</div>"
      ],
      "text/plain": [
       "     borough_left                    geometry  index_right  objectid  \\\n",
       "0       Manhattan  POINT (-73.97660 40.78751)          238       239   \n",
       "720     Manhattan  POINT (-73.97979 40.78439)          238       239   \n",
       "856     Manhattan  POINT (-73.97808 40.78668)          238       239   \n",
       "1037    Manhattan  POINT (-73.97805 40.78616)          238       239   \n",
       "1135    Manhattan  POINT (-73.97671 40.78782)          238       239   \n",
       "\n",
       "      shape_leng  shape_area                   zone  locationid borough_right  \n",
       "0       0.063626    0.000205  Upper West Side South         239     Manhattan  \n",
       "720     0.063626    0.000205  Upper West Side South         239     Manhattan  \n",
       "856     0.063626    0.000205  Upper West Side South         239     Manhattan  \n",
       "1037    0.063626    0.000205  Upper West Side South         239     Manhattan  \n",
       "1135    0.063626    0.000205  Upper West Side South         239     Manhattan  "
      ]
     },
     "execution_count": 114,
     "metadata": {},
     "output_type": "execute_result"
    }
   ],
   "source": [
    "parking.head()"
   ]
  },
  {
   "cell_type": "code",
   "execution_count": 28,
   "metadata": {},
   "outputs": [
    {
     "name": "stdout",
     "output_type": "stream",
     "text": [
      "+----------+\n",
      "|locationid|\n",
      "+----------+\n",
      "|       239|\n",
      "|       239|\n",
      "|       239|\n",
      "|       239|\n",
      "|       239|\n",
      "|       239|\n",
      "|       239|\n",
      "|       239|\n",
      "|       239|\n",
      "|       239|\n",
      "|       239|\n",
      "|       239|\n",
      "|       239|\n",
      "|       239|\n",
      "|       239|\n",
      "|       239|\n",
      "|       239|\n",
      "|       239|\n",
      "|       239|\n",
      "|       239|\n",
      "+----------+\n",
      "only showing top 20 rows\n",
      "\n"
     ]
    }
   ],
   "source": [
    "parking = parking[['locationid']]\n",
    "\n",
    "parking =spark.createDataFrame(parking) \n",
    "\n",
    "parking.show(20)"
   ]
  },
  {
   "cell_type": "code",
   "execution_count": 29,
   "metadata": {},
   "outputs": [],
   "source": [
    "# count number of parking munimeters in each taxi zone\n",
    "parking = parking.groupBy(['locationid']) \\\n",
    "            .agg(\n",
    "                F.count('locationid').alias('number_of_parking_munimeters_here'),\n",
    "            )\n",
    "            \n"
   ]
  },
  {
   "cell_type": "code",
   "execution_count": 119,
   "metadata": {},
   "outputs": [
    {
     "name": "stdout",
     "output_type": "stream",
     "text": [
      "+----------+---------------------------------+\n",
      "|locationid|number_of_parking_munimeters_here|\n",
      "+----------+---------------------------------+\n",
      "|        94|                               45|\n",
      "|       107|                              164|\n",
      "|       239|                               95|\n",
      "|       170|                              148|\n",
      "|       236|                              107|\n",
      "|        48|                              143|\n",
      "|        61|                               83|\n",
      "|       164|                              123|\n",
      "|        75|                               77|\n",
      "|       135|                               62|\n",
      "|       157|                               50|\n",
      "|        95|                              208|\n",
      "|        41|                               79|\n",
      "|       252|                               28|\n",
      "|        89|                              196|\n",
      "|       182|                               74|\n",
      "|       129|                              213|\n",
      "|        97|                               34|\n",
      "|       159|                               42|\n",
      "|       231|                               77|\n",
      "+----------+---------------------------------+\n",
      "only showing top 20 rows\n",
      "\n"
     ]
    }
   ],
   "source": [
    "parking.show(20)"
   ]
  },
  {
   "cell_type": "code",
   "execution_count": 31,
   "metadata": {},
   "outputs": [
    {
     "name": "stdout",
     "output_type": "stream",
     "text": [
      "Number of rows after preprocessing: 222\n"
     ]
    }
   ],
   "source": [
    "print(f\"Number of rows after preprocessing: {parking.count()}\")"
   ]
  },
  {
   "cell_type": "code",
   "execution_count": 120,
   "metadata": {},
   "outputs": [],
   "source": [
    "\n",
    "\n",
    "parking \\\n",
    "        .coalesce(1) \\\n",
    "        .write \\\n",
    "        .mode('overwrite') \\\n",
    "        .parquet(f\"../data/curated/parking/parking.parquet\")"
   ]
  },
  {
   "cell_type": "markdown",
   "metadata": {},
   "source": [
    "### Combining External Datasets with Taxi Data"
   ]
  },
  {
   "cell_type": "code",
   "execution_count": 40,
   "metadata": {},
   "outputs": [],
   "source": [
    "sdf_yellow_all = spark.read.parquet('../data/curated/tlc/yellow/*')\n",
    "\n",
    "airbnb = spark.read.parquet('../data/curated/airbnb/airbnb.parquet')\n",
    "\n",
    "census = spark.read.parquet('../data/curated/census/census.parquet')\n",
    "\n",
    "hotels = spark.read.parquet('../data/curated/hotels/hotels.parquet')\n",
    "\n",
    "parking = spark.read.parquet('../data/curated/parking/parking.parquet')\n",
    "\n",
    "subway_stations = spark.read.parquet('../data/curated/subway_stations/subway_stations.parquet')"
   ]
  },
  {
   "cell_type": "code",
   "execution_count": 41,
   "metadata": {},
   "outputs": [
    {
     "data": {
      "text/plain": [
       "332627"
      ]
     },
     "execution_count": 41,
     "metadata": {},
     "output_type": "execute_result"
    }
   ],
   "source": [
    "combined = sdf_yellow_all.withColumnRenamed(\n",
    "    'pulocationid', 'locationid'\n",
    "    ).join(\n",
    "    airbnb, 'locationid', 'left'\n",
    "    ).join(\n",
    "        hotels, 'locationid', 'left'\n",
    "    ).join(\n",
    "        parking, 'locationid', 'left'\n",
    "    ).join(\n",
    "        subway_stations, 'locationid', 'left'\n",
    "    ).join(\n",
    "    census, 'locationid', 'left'\n",
    "    ).withColumnRenamed(\n",
    "        'avg_daily_price_usd', 'avg_daily_airbnb_price_usd'\n",
    "    )\n",
    "    \n",
    "combined.count()\n",
    "    \n",
    "\n",
    "\n",
    "\n",
    "\n",
    "\n",
    "    \n",
    " "
   ]
  },
  {
   "cell_type": "code",
   "execution_count": 42,
   "metadata": {},
   "outputs": [
    {
     "data": {
      "text/html": [
       "<table border='1'>\n",
       "<tr><th>locationid</th><th>year</th><th>month</th><th>day_of_month</th><th>hour</th><th>day_of_week</th><th>is_weekday</th><th>is_public_holiday</th><th>avg_usd_per_1/5_mile</th><th>avg_usd_per_minute</th><th>number_of_trips_here</th><th>number_of_trips_nyc</th><th>zone_profitability</th><th>number_of_airbnb_here</th><th>avg_daily_airbnb_price_usd</th><th>number_of_hotels_here</th><th>number_of_parking_munimeters_here</th><th>number_of_subway_stations_here</th><th>total_pop</th><th>avg_income_per_cap</th><th>poverty_%</th><th>professional_%</th><th>service_%</th><th>office_%</th><th>construction_%</th><th>production_%</th><th>drive_%</th><th>carpool_%</th><th>transit_%</th><th>walk_%</th><th>work_at_home_%</th><th>avg_commute_mins</th><th>private_work_%</th><th>public_work_%</th><th>self_employed_%</th><th>unemployment_%</th></tr>\n",
       "<tr><td>237</td><td>2022</td><td>5</td><td>12</td><td>18</td><td>5</td><td>true</td><td>false</td><td>2.2375015498102404</td><td>1.596395406518293</td><td>258</td><td>3995</td><td>989.1454147327617</td><td>82</td><td>585.4146341463414</td><td>17</td><td>181</td><td>5</td><td>19408</td><td>170575.66666666666</td><td>4.733333333333333</td><td>76.81666666666668</td><td>3.3499999999999996</td><td>18.333333333333332</td><td>0.75</td><td>0.75</td><td>12.183333333333335</td><td>2.25</td><td>30.75</td><td>30.7</td><td>12.916666666666666</td><td>23.149999999999995</td><td>82.26666666666667</td><td>5.333333333333333</td><td>11.450000000000001</td><td>3.4500000000000006</td></tr>\n",
       "<tr><td>237</td><td>2022</td><td>5</td><td>4</td><td>18</td><td>4</td><td>true</td><td>false</td><td>2.303214582246571</td><td>1.6567343527728342</td><td>249</td><td>3983</td><td>986.027284819832</td><td>82</td><td>585.4146341463414</td><td>17</td><td>181</td><td>5</td><td>19408</td><td>170575.66666666666</td><td>4.733333333333333</td><td>76.81666666666668</td><td>3.3499999999999996</td><td>18.333333333333332</td><td>0.75</td><td>0.75</td><td>12.183333333333335</td><td>2.25</td><td>30.75</td><td>30.7</td><td>12.916666666666666</td><td>23.149999999999995</td><td>82.26666666666667</td><td>5.333333333333333</td><td>11.450000000000001</td><td>3.4500000000000006</td></tr>\n",
       "<tr><td>237</td><td>2022</td><td>5</td><td>17</td><td>17</td><td>3</td><td>true</td><td>false</td><td>2.749651557725555</td><td>1.522720939792324</td><td>229</td><td>3094</td><td>978.3733019315944</td><td>82</td><td>585.4146341463414</td><td>17</td><td>181</td><td>5</td><td>19408</td><td>170575.66666666666</td><td>4.733333333333333</td><td>76.81666666666668</td><td>3.3499999999999996</td><td>18.333333333333332</td><td>0.75</td><td>0.75</td><td>12.183333333333335</td><td>2.25</td><td>30.75</td><td>30.7</td><td>12.916666666666666</td><td>23.149999999999995</td><td>82.26666666666667</td><td>5.333333333333333</td><td>11.450000000000001</td><td>3.4500000000000006</td></tr>\n",
       "<tr><td>161</td><td>2022</td><td>5</td><td>4</td><td>19</td><td>4</td><td>true</td><td>false</td><td>1.9862360280996774</td><td>1.5318345925392174</td><td>278</td><td>3452</td><td>978.0236325376127</td><td>150</td><td>592.8</td><td>82</td><td>145</td><td>2</td><td>1404</td><td>95716.25</td><td>6.025</td><td>64.925</td><td>18.075</td><td>10.275</td><td>5.4</td><td>1.3</td><td>4.25</td><td>0.0</td><td>21.975</td><td>52.849999999999994</td><td>12.875</td><td>NaN</td><td>87.65</td><td>2.925</td><td>9.425</td><td>2.575</td></tr>\n",
       "<tr><td>161</td><td>2022</td><td>5</td><td>10</td><td>19</td><td>3</td><td>true</td><td>false</td><td>1.9896948754319326</td><td>1.4385266658933749</td><td>285</td><td>3386</td><td>977.0431392777126</td><td>150</td><td>592.8</td><td>82</td><td>145</td><td>2</td><td>1404</td><td>95716.25</td><td>6.025</td><td>64.925</td><td>18.075</td><td>10.275</td><td>5.4</td><td>1.3</td><td>4.25</td><td>0.0</td><td>21.975</td><td>52.849999999999994</td><td>12.875</td><td>NaN</td><td>87.65</td><td>2.925</td><td>9.425</td><td>2.575</td></tr>\n",
       "</table>\n"
      ],
      "text/plain": [
       "+----------+----+-----+------------+----+-----------+----------+-----------------+--------------------+------------------+--------------------+-------------------+------------------+---------------------+--------------------------+---------------------+---------------------------------+------------------------------+---------+------------------+-----------------+-----------------+------------------+------------------+--------------+------------+------------------+---------+---------+------------------+------------------+------------------+-----------------+-----------------+------------------+------------------+\n",
       "|locationid|year|month|day_of_month|hour|day_of_week|is_weekday|is_public_holiday|avg_usd_per_1/5_mile|avg_usd_per_minute|number_of_trips_here|number_of_trips_nyc|zone_profitability|number_of_airbnb_here|avg_daily_airbnb_price_usd|number_of_hotels_here|number_of_parking_munimeters_here|number_of_subway_stations_here|total_pop|avg_income_per_cap|        poverty_%|   professional_%|         service_%|          office_%|construction_%|production_%|           drive_%|carpool_%|transit_%|            walk_%|    work_at_home_%|  avg_commute_mins|   private_work_%|    public_work_%|   self_employed_%|    unemployment_%|\n",
       "+----------+----+-----+------------+----+-----------+----------+-----------------+--------------------+------------------+--------------------+-------------------+------------------+---------------------+--------------------------+---------------------+---------------------------------+------------------------------+---------+------------------+-----------------+-----------------+------------------+------------------+--------------+------------+------------------+---------+---------+------------------+------------------+------------------+-----------------+-----------------+------------------+------------------+\n",
       "|       237|2022|    5|          12|  18|          5|      true|            false|  2.2375015498102404| 1.596395406518293|                 258|               3995| 989.1454147327617|                   82|         585.4146341463414|                   17|                              181|                             5|    19408|170575.66666666666|4.733333333333333|76.81666666666668|3.3499999999999996|18.333333333333332|          0.75|        0.75|12.183333333333335|     2.25|    30.75|              30.7|12.916666666666666|23.149999999999995|82.26666666666667|5.333333333333333|11.450000000000001|3.4500000000000006|\n",
       "|       237|2022|    5|           4|  18|          4|      true|            false|   2.303214582246571|1.6567343527728342|                 249|               3983|  986.027284819832|                   82|         585.4146341463414|                   17|                              181|                             5|    19408|170575.66666666666|4.733333333333333|76.81666666666668|3.3499999999999996|18.333333333333332|          0.75|        0.75|12.183333333333335|     2.25|    30.75|              30.7|12.916666666666666|23.149999999999995|82.26666666666667|5.333333333333333|11.450000000000001|3.4500000000000006|\n",
       "|       237|2022|    5|          17|  17|          3|      true|            false|   2.749651557725555| 1.522720939792324|                 229|               3094| 978.3733019315944|                   82|         585.4146341463414|                   17|                              181|                             5|    19408|170575.66666666666|4.733333333333333|76.81666666666668|3.3499999999999996|18.333333333333332|          0.75|        0.75|12.183333333333335|     2.25|    30.75|              30.7|12.916666666666666|23.149999999999995|82.26666666666667|5.333333333333333|11.450000000000001|3.4500000000000006|\n",
       "|       161|2022|    5|           4|  19|          4|      true|            false|  1.9862360280996774|1.5318345925392174|                 278|               3452| 978.0236325376127|                  150|                     592.8|                   82|                              145|                             2|     1404|          95716.25|            6.025|           64.925|            18.075|            10.275|           5.4|         1.3|              4.25|      0.0|   21.975|52.849999999999994|            12.875|               NaN|            87.65|            2.925|             9.425|             2.575|\n",
       "|       161|2022|    5|          10|  19|          3|      true|            false|  1.9896948754319326|1.4385266658933749|                 285|               3386| 977.0431392777126|                  150|                     592.8|                   82|                              145|                             2|     1404|          95716.25|            6.025|           64.925|            18.075|            10.275|           5.4|         1.3|              4.25|      0.0|   21.975|52.849999999999994|            12.875|               NaN|            87.65|            2.925|             9.425|             2.575|\n",
       "+----------+----+-----+------------+----+-----------+----------+-----------------+--------------------+------------------+--------------------+-------------------+------------------+---------------------+--------------------------+---------------------+---------------------------------+------------------------------+---------+------------------+-----------------+-----------------+------------------+------------------+--------------+------------+------------------+---------+---------+------------------+------------------+------------------+-----------------+-----------------+------------------+------------------+"
      ]
     },
     "execution_count": 42,
     "metadata": {},
     "output_type": "execute_result"
    }
   ],
   "source": [
    "combined.limit(5)"
   ]
  },
  {
   "cell_type": "code",
   "execution_count": 43,
   "metadata": {},
   "outputs": [
    {
     "data": {
      "text/plain": [
       "332627"
      ]
     },
     "execution_count": 43,
     "metadata": {},
     "output_type": "execute_result"
    }
   ],
   "source": [
    "sdf_yellow_all.count()\n"
   ]
  },
  {
   "cell_type": "code",
   "execution_count": 44,
   "metadata": {},
   "outputs": [
    {
     "name": "stderr",
     "output_type": "stream",
     "text": [
      "                                                                                \r"
     ]
    },
    {
     "name": "stderr",
     "output_type": "stream",
     "text": [
      "----------------------------------------\n",
      "Exception occurred during processing of request from ('127.0.0.1', 40062)\n",
      "Traceback (most recent call last):\n",
      "  File \"/usr/lib/python3.10/socketserver.py\", line 316, in _handle_request_noblock\n",
      "    self.process_request(request, client_address)\n",
      "  File \"/usr/lib/python3.10/socketserver.py\", line 347, in process_request\n",
      "    self.finish_request(request, client_address)\n",
      "  File \"/usr/lib/python3.10/socketserver.py\", line 360, in finish_request\n",
      "    self.RequestHandlerClass(request, client_address, self)\n",
      "  File \"/usr/lib/python3.10/socketserver.py\", line 747, in __init__\n",
      "    self.handle()\n",
      "  File \"/home/jlafontaine/.local/lib/python3.10/site-packages/pyspark/accumulators.py\", line 281, in handle\n",
      "    poll(accum_updates)\n",
      "  File \"/home/jlafontaine/.local/lib/python3.10/site-packages/pyspark/accumulators.py\", line 253, in poll\n",
      "    if func():\n",
      "  File \"/home/jlafontaine/.local/lib/python3.10/site-packages/pyspark/accumulators.py\", line 257, in accum_updates\n",
      "    num_updates = read_int(self.rfile)\n",
      "  File \"/home/jlafontaine/.local/lib/python3.10/site-packages/pyspark/serializers.py\", line 596, in read_int\n",
      "    raise EOFError\n",
      "EOFError\n",
      "----------------------------------------\n"
     ]
    }
   ],
   "source": [
    "combined \\\n",
    "        .coalesce(1) \\\n",
    "        .write \\\n",
    "        .mode('overwrite') \\\n",
    "        .parquet(f\"../data/curated/combined.parquet\")"
   ]
  }
 ],
 "metadata": {
  "kernelspec": {
   "display_name": "Python 3",
   "language": "python",
   "name": "python3"
  },
  "language_info": {
   "codemirror_mode": {
    "name": "ipython",
    "version": 3
   },
   "file_extension": ".py",
   "mimetype": "text/x-python",
   "name": "python",
   "nbconvert_exporter": "python",
   "pygments_lexer": "ipython3",
   "version": "3.10.12"
  },
  "orig_nbformat": 4
 },
 "nbformat": 4,
 "nbformat_minor": 2
}
